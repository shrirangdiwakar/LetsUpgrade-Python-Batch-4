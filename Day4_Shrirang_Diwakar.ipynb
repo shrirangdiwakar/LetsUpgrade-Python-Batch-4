{
  "nbformat": 4,
  "nbformat_minor": 0,
  "metadata": {
    "colab": {
      "name": "Day4 Shrirang Diwakar.ipynb",
      "provenance": [],
      "collapsed_sections": [],
      "authorship_tag": "ABX9TyOn/Da8nfwD7pR1C+tTCSfn",
      "include_colab_link": true
    },
    "kernelspec": {
      "name": "python3",
      "display_name": "Python 3"
    }
  },
  "cells": [
    {
      "cell_type": "markdown",
      "metadata": {
        "id": "view-in-github",
        "colab_type": "text"
      },
      "source": [
        "<a href=\"https://colab.research.google.com/github/shrirangdiwakar/LetsUpgrade-Python-Batch-4/blob/master/Day4_Shrirang_Diwakar.ipynb\" target=\"_parent\"><img src=\"https://colab.research.google.com/assets/colab-badge.svg\" alt=\"Open In Colab\"/></a>"
      ]
    },
    {
      "cell_type": "markdown",
      "metadata": {
        "id": "ZltzxcIf9OEM",
        "colab_type": "text"
      },
      "source": [
        "##### **Assignment 1 : Identifying Sublist from a given list in the same order**"
      ]
    },
    {
      "cell_type": "code",
      "metadata": {
        "id": "3Ji8rIez4h2X",
        "colab_type": "code",
        "outputId": "034f3f41-0dee-46f7-ace9-dbbab96fe3da",
        "colab": {
          "base_uri": "https://localhost:8080/",
          "height": 255
        }
      },
      "source": [
        "#I have modified the problem statement and made it generic to all sublists.\n",
        "\n",
        "\n",
        "print(\"\\n\\t\\033[1m***Welcome to Sublist Checker System***\\033[0m\")\n",
        "\n",
        "count=1\n",
        "while count<3 :\n",
        "  list1 = list(input(\"Enter the List:\"))\n",
        "  sublist = list(input(\"Enter the Sublist you want to check if present in given list :\"))\n",
        "\n",
        "  \n",
        "  j=0\n",
        "  flag=0\n",
        "\n",
        "#logic for sublist check : check first element and increment acc. to condition satisfied\n",
        "\n",
        "  for i in range(len(list1)):\n",
        "    if list1[i]==sublist[j] :\n",
        "      j+=1                                   #increment sublist if match element\n",
        "    if j==len(sublist) :\n",
        "      flag=1\n",
        "      break\n",
        "\n",
        "#flag will be 1 only if sublist match is found \n",
        "  if flag==1 :\n",
        "    print(\"\\n\\033[92mHurray,Its a Match\\033[0m\\n\\n\")\n",
        "  else :\n",
        "    print(\"\\n\\033[91mOops, Its Gone\\033[0m\\n\\n\")\n",
        "\n",
        "  count+=1\n"
      ],
      "execution_count": 0,
      "outputs": [
        {
          "output_type": "stream",
          "text": [
            "\n",
            "\t\u001b[1m***Welcome to Sublist Checker System***\u001b[0m\n",
            "Enter the List:4567\n",
            "Enter the Sublist you want to check if present in given list :456\n",
            "\n",
            "\u001b[92mHurray,Its a Match\u001b[0m\n",
            "\n",
            "\n",
            "Enter the List:7484844\n",
            "Enter the Sublist you want to check if present in given list :74445\n",
            "\n",
            "\u001b[91mOops, Its Gone\u001b[0m\n",
            "\n",
            "\n"
          ],
          "name": "stdout"
        }
      ]
    },
    {
      "cell_type": "markdown",
      "metadata": {
        "id": "lATXuFt0P-bh",
        "colab_type": "text"
      },
      "source": [
        "#####**Assignment 2 : Calculator with basic operations using functions and if elif statements**"
      ]
    },
    {
      "cell_type": "code",
      "metadata": {
        "id": "VcTCg0jA_dFx",
        "colab_type": "code",
        "outputId": "ef0b9e96-7dea-49be-86a0-41948f48b918",
        "colab": {
          "base_uri": "https://localhost:8080/",
          "height": 493
        }
      },
      "source": [
        "print(\"\\t\\033[1m***Welcome to Calculator***\\033[0m\")\n",
        "\n",
        "print(\"\\n\\n\\033[94mFollowing are the operations in our Calculator: \\n\\033[91m1.Addition\\n\\033[92m2.Subtraction\\n\\033[0m3.Multiplication\\n\\033[95m4.Division\\033[0m\")\n",
        "\n",
        "\n",
        "\n",
        "#addition Function\n",
        "def myadd(num1,num2):\n",
        "  print(\"\\n\\033[91mThe Addition of\",num1,\"and\",num2,\"is : \\033[0m\",num1+num2)\n",
        "\n",
        "#subtraction Function\n",
        "def mysub(num1,num2):\n",
        "  print(\"\\n\\033[92mThe Subtraction of\",num1,\"and\",num2,\"is : \\033[0m\",num1-num2)\n",
        "\n",
        "#multiplication Function\n",
        "def mymul(num1,num2):\n",
        "  print(\"\\n\\033[0mThe Multiplication of\",num1,\"and\",num2,\"is : \\033[0m\",num1*num2)\n",
        "\n",
        "#division Function\n",
        "def mydiv(num1,num2):\n",
        "  print(\"\\n\\033[95mThe Division of\",num1,\"and\",num2,\"is : \\033[0m\",num1/num2)\n",
        "\n",
        "count = 1\n",
        "\n",
        "while count<5 :\n",
        "#input from user\n",
        "  num1 = int(input(\"Enter First Number:\\t\"))\n",
        "  num2 = int(input(\"Enter Second Number :\\t\"))\n",
        "\n",
        "  choice = int(input(\"Enter Your Choice :\\t\")) \n",
        "\n",
        "\n",
        "\n",
        "#choice selection\n",
        "  if choice == 1 :\n",
        "    myadd(num1,num2)\n",
        "  elif choice == 2 :\n",
        "    mysub(num1,num2)\n",
        "  elif choice == 3 :\n",
        "    mymul(num1,num2)\n",
        "  elif choice == 4 :\n",
        "    mydiv(num1,num2)\n",
        "  else :\n",
        "    print(\"\\n\\033[91m Rules Violated\\033[0m\")\n",
        "  \n",
        "  count+=1\n"
      ],
      "execution_count": 0,
      "outputs": [
        {
          "output_type": "stream",
          "text": [
            "\t\u001b[1m***Welcome to Calculator***\u001b[0m\n",
            "\n",
            "\n",
            "\u001b[94mFollowing are the operations in our Calculator: \n",
            "\u001b[91m1.Addition\n",
            "\u001b[92m2.Subtraction\n",
            "\u001b[0m3.Multiplication\n",
            "\u001b[95m4.Division\u001b[0m\n",
            "Enter First Number:\t12\n",
            "Enter Second Number :\t12\n",
            "Enter Your Choice :\t1\n",
            "\n",
            "\u001b[91mThe Addition of 12 and 12 is : \u001b[0m 24\n",
            "Enter First Number:\t23\n",
            "Enter Second Number :\t21\n",
            "Enter Your Choice :\t2\n",
            "\n",
            "\u001b[92mThe Subtraction of 23 and 21 is : \u001b[0m 2\n",
            "Enter First Number:\t3\n",
            "Enter Second Number :\t20\n",
            "Enter Your Choice :\t3\n",
            "\n",
            "\u001b[0mThe Multiplication of 3 and 20 is : \u001b[0m 60\n",
            "Enter First Number:\t69\n",
            "Enter Second Number :\t3\n",
            "Enter Your Choice :\t4\n",
            "\n",
            "\u001b[95mThe Division of 69 and 3 is : \u001b[0m 23.0\n"
          ],
          "name": "stdout"
        }
      ]
    }
  ]
}