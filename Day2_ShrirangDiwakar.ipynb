{
  "nbformat": 4,
  "nbformat_minor": 0,
  "metadata": {
    "colab": {
      "name": "Day2 ShrirangDiwakar.ipynb",
      "provenance": [],
      "collapsed_sections": [],
      "authorship_tag": "ABX9TyN6ItGrj3HVk5vZzGPs4Ayz",
      "include_colab_link": true
    },
    "kernelspec": {
      "name": "python3",
      "display_name": "Python 3"
    }
  },
  "cells": [
    {
      "cell_type": "markdown",
      "metadata": {
        "id": "view-in-github",
        "colab_type": "text"
      },
      "source": [
        "<a href=\"https://colab.research.google.com/github/shrirangdiwakar/LetsUpgrade-Python-Batch-4/blob/master/Day2_ShrirangDiwakar.ipynb\" target=\"_parent\"><img src=\"https://colab.research.google.com/assets/colab-badge.svg\" alt=\"Open In Colab\"/></a>"
      ]
    },
    {
      "cell_type": "markdown",
      "metadata": {
        "id": "scYr5ZBH86-Z",
        "colab_type": "text"
      },
      "source": [
        "# **Day-2 Datatypes and Variable assignments**"
      ]
    },
    {
      "cell_type": "markdown",
      "metadata": {
        "id": "X11VCNe-9u7M",
        "colab_type": "text"
      },
      "source": [
        "## **List**\n",
        "####list are mutable ordered collection of different datatypes"
      ]
    },
    {
      "cell_type": "code",
      "metadata": {
        "id": "PoXXrbCw8mZW",
        "colab_type": "code",
        "colab": {}
      },
      "source": [
        "\n",
        "lst = [\"my\",\"name\",\"is\",\"Shrirang\",\"Diwakar\"]"
      ],
      "execution_count": 0,
      "outputs": []
    },
    {
      "cell_type": "code",
      "metadata": {
        "id": "9clzvy2j-Dbm",
        "colab_type": "code",
        "outputId": "e9385df3-c66d-4931-e6d9-6e211c6b85a1",
        "colab": {
          "base_uri": "https://localhost:8080/",
          "height": 34
        }
      },
      "source": [
        "lst"
      ],
      "execution_count": 0,
      "outputs": [
        {
          "output_type": "execute_result",
          "data": {
            "text/plain": [
              "['my', 'name', 'is', 'Shrirang', 'Diwakar']"
            ]
          },
          "metadata": {
            "tags": []
          },
          "execution_count": 8
        }
      ]
    },
    {
      "cell_type": "markdown",
      "metadata": {
        "id": "yOTH2xoU-TKh",
        "colab_type": "text"
      },
      "source": [
        "####**Nested List**"
      ]
    },
    {
      "cell_type": "code",
      "metadata": {
        "id": "FaXxiGli-QtV",
        "colab_type": "code",
        "colab": {}
      },
      "source": [
        "lst = [\"my\",\"name\",[\"First name\",\"Last name\"],\"is\",\"Shrirang\",[20,\"Pune\"],\"Diwakar\"]"
      ],
      "execution_count": 0,
      "outputs": []
    },
    {
      "cell_type": "code",
      "metadata": {
        "id": "n1tX9rR6-q5T",
        "colab_type": "code",
        "outputId": "f7122b22-d114-44c0-fe51-c79b99cd65bf",
        "colab": {
          "base_uri": "https://localhost:8080/",
          "height": 136
        }
      },
      "source": [
        "lst"
      ],
      "execution_count": 0,
      "outputs": [
        {
          "output_type": "execute_result",
          "data": {
            "text/plain": [
              "['my',\n",
              " 'name',\n",
              " ['First name', 'Last name'],\n",
              " 'is',\n",
              " 'Shrirang',\n",
              " [20, 'Pune'],\n",
              " 'Diwakar']"
            ]
          },
          "metadata": {
            "tags": []
          },
          "execution_count": 11
        }
      ]
    },
    {
      "cell_type": "code",
      "metadata": {
        "id": "Ns7TKiG_-rxk",
        "colab_type": "code",
        "outputId": "ff3b4e44-2b5e-4e8a-ee7d-862919ac46ea",
        "colab": {
          "base_uri": "https://localhost:8080/",
          "height": 34
        }
      },
      "source": [
        "lst[2]"
      ],
      "execution_count": 0,
      "outputs": [
        {
          "output_type": "execute_result",
          "data": {
            "text/plain": [
              "['First name', 'Last name']"
            ]
          },
          "metadata": {
            "tags": []
          },
          "execution_count": 13
        }
      ]
    },
    {
      "cell_type": "code",
      "metadata": {
        "id": "WAEFKpnw_DyZ",
        "colab_type": "code",
        "outputId": "993b6833-5c59-4ae2-b317-0e92d4213ccb",
        "colab": {
          "base_uri": "https://localhost:8080/",
          "height": 34
        }
      },
      "source": [
        "lst[6]"
      ],
      "execution_count": 0,
      "outputs": [
        {
          "output_type": "execute_result",
          "data": {
            "text/plain": [
              "'Diwakar'"
            ]
          },
          "metadata": {
            "tags": []
          },
          "execution_count": 15
        }
      ]
    },
    {
      "cell_type": "code",
      "metadata": {
        "id": "aoHEk40BBqll",
        "colab_type": "code",
        "outputId": "d373755d-3cab-4338-ebd5-2f20b4debac0",
        "colab": {
          "base_uri": "https://localhost:8080/",
          "height": 34
        }
      },
      "source": [
        "lst[2][1]"
      ],
      "execution_count": 0,
      "outputs": [
        {
          "output_type": "execute_result",
          "data": {
            "text/plain": [
              "'Last name'"
            ]
          },
          "metadata": {
            "tags": []
          },
          "execution_count": 20
        }
      ]
    },
    {
      "cell_type": "code",
      "metadata": {
        "id": "4D6fdXU-BqtU",
        "colab_type": "code",
        "outputId": "c64cffb1-ac6e-41a4-8028-0d64a1bebe41",
        "colab": {
          "base_uri": "https://localhost:8080/",
          "height": 34
        }
      },
      "source": [
        "#indexing is done from 0 in forward direction and from -1 ,-2,-3.... in reverse direction\n",
        "lst[-1]"
      ],
      "execution_count": 0,
      "outputs": [
        {
          "output_type": "execute_result",
          "data": {
            "text/plain": [
              "'Diwakar'"
            ]
          },
          "metadata": {
            "tags": []
          },
          "execution_count": 21
        }
      ]
    },
    {
      "cell_type": "code",
      "metadata": {
        "id": "xqT7UlVBAFY3",
        "colab_type": "code",
        "outputId": "4e712157-eb27-4df3-af67-3827fc15e630",
        "colab": {
          "base_uri": "https://localhost:8080/",
          "height": 119
        }
      },
      "source": [
        "#Slicing and Dicing\n",
        "lst[1:]"
      ],
      "execution_count": 0,
      "outputs": [
        {
          "output_type": "execute_result",
          "data": {
            "text/plain": [
              "['name',\n",
              " ['First name', 'Last name'],\n",
              " 'is',\n",
              " 'Shrirang',\n",
              " [20, 'Pune'],\n",
              " 'Diwakar']"
            ]
          },
          "metadata": {
            "tags": []
          },
          "execution_count": 16
        }
      ]
    },
    {
      "cell_type": "code",
      "metadata": {
        "id": "Q_E4lHh4AR7p",
        "colab_type": "code",
        "outputId": "797d7a12-2ce6-414f-9db5-d47fb5ed5e34",
        "colab": {
          "base_uri": "https://localhost:8080/",
          "height": 34
        }
      },
      "source": [
        "lst[3:6]"
      ],
      "execution_count": 0,
      "outputs": [
        {
          "output_type": "execute_result",
          "data": {
            "text/plain": [
              "['is', 'Shrirang', [20, 'Pune']]"
            ]
          },
          "metadata": {
            "tags": []
          },
          "execution_count": 17
        }
      ]
    },
    {
      "cell_type": "code",
      "metadata": {
        "id": "0cHt2G51AXS-",
        "colab_type": "code",
        "outputId": "06cb9bb0-799f-47ba-a5dd-3106e0ed9c5c",
        "colab": {
          "base_uri": "https://localhost:8080/",
          "height": 136
        }
      },
      "source": [
        "#indexing in list is done from 0 in forward direction and from -1 in reverse\n",
        "#for printing in reverse:\n",
        "lst[::-1]"
      ],
      "execution_count": 0,
      "outputs": [
        {
          "output_type": "execute_result",
          "data": {
            "text/plain": [
              "['Diwakar',\n",
              " [20, 'Pune'],\n",
              " 'Shrirang',\n",
              " 'is',\n",
              " ['First name', 'Last name'],\n",
              " 'name',\n",
              " 'my']"
            ]
          },
          "metadata": {
            "tags": []
          },
          "execution_count": 18
        }
      ]
    },
    {
      "cell_type": "code",
      "metadata": {
        "id": "DhfEtKUyAjNN",
        "colab_type": "code",
        "outputId": "3788baf1-fa2c-43d7-a944-6c5ff6a3e810",
        "colab": {
          "base_uri": "https://localhost:8080/",
          "height": 34
        }
      },
      "source": [
        "#Length function to find number of items in list\n",
        "len(lst)"
      ],
      "execution_count": 0,
      "outputs": [
        {
          "output_type": "execute_result",
          "data": {
            "text/plain": [
              "7"
            ]
          },
          "metadata": {
            "tags": []
          },
          "execution_count": 19
        }
      ]
    },
    {
      "cell_type": "markdown",
      "metadata": {
        "id": "NiZFriIuCNrS",
        "colab_type": "text"
      },
      "source": [
        "##**Some more Default Functions in python for list**\n",
        "\n"
      ]
    },
    {
      "cell_type": "code",
      "metadata": {
        "id": "3-VXWROABe2M",
        "colab_type": "code",
        "colab": {}
      },
      "source": [
        "#Python functions for list:\n",
        "# pop() : pops out the element from a given index and displays\n",
        "# remove() : deletes an element at a given index\n",
        "# index() : returns the index of the item\n",
        "# append() : appends an element at the end of the list\n",
        "# sort() : sort the items of list in ascending order\n",
        "# insert() : insert element at a given index\n",
        "# clear() : removes all the items from list\n",
        "# count() : returns the number of occurences of an item\n",
        "# copy() : returns a shallow copy of the list\n",
        "# reverse() : reverse order of items in list"
      ],
      "execution_count": 0,
      "outputs": []
    },
    {
      "cell_type": "code",
      "metadata": {
        "id": "qfGMJBosD2HU",
        "colab_type": "code",
        "outputId": "14e0d0df-44c9-4838-e062-fe74fc81d5c6",
        "colab": {
          "base_uri": "https://localhost:8080/",
          "height": 34
        }
      },
      "source": [
        "lst.pop(0)"
      ],
      "execution_count": 0,
      "outputs": [
        {
          "output_type": "execute_result",
          "data": {
            "text/plain": [
              "'my'"
            ]
          },
          "metadata": {
            "tags": []
          },
          "execution_count": 22
        }
      ]
    },
    {
      "cell_type": "code",
      "metadata": {
        "id": "BLQWjH2CD7xW",
        "colab_type": "code",
        "outputId": "4886fe47-9d4a-4131-8900-a2cf814e423c",
        "colab": {
          "base_uri": "https://localhost:8080/",
          "height": 119
        }
      },
      "source": [
        "# here the item \"my\" will be deleted as we executed pop operation\n",
        "lst"
      ],
      "execution_count": 0,
      "outputs": [
        {
          "output_type": "execute_result",
          "data": {
            "text/plain": [
              "['name',\n",
              " ['First name', 'Last name'],\n",
              " 'is',\n",
              " 'Shrirang',\n",
              " [20, 'Pune'],\n",
              " 'Diwakar']"
            ]
          },
          "metadata": {
            "tags": []
          },
          "execution_count": 23
        }
      ]
    },
    {
      "cell_type": "code",
      "metadata": {
        "id": "Ey9TORLBD89Y",
        "colab_type": "code",
        "outputId": "f74fff61-99d7-4ead-bf92-f40bfda33996",
        "colab": {
          "base_uri": "https://localhost:8080/",
          "height": 34
        }
      },
      "source": [
        "#index operation\n",
        "lst.index(\"Shrirang\")"
      ],
      "execution_count": 0,
      "outputs": [
        {
          "output_type": "execute_result",
          "data": {
            "text/plain": [
              "3"
            ]
          },
          "metadata": {
            "tags": []
          },
          "execution_count": 24
        }
      ]
    },
    {
      "cell_type": "code",
      "metadata": {
        "id": "8f_Zhz0IEMx_",
        "colab_type": "code",
        "colab": {}
      },
      "source": [
        "#remove operation\n",
        "lst.remove(\"is\")"
      ],
      "execution_count": 0,
      "outputs": []
    },
    {
      "cell_type": "code",
      "metadata": {
        "id": "LpZ1tYvWEbB2",
        "colab_type": "code",
        "outputId": "b1a01749-61a5-4b5f-f8bb-a4c7b66bd6b7",
        "colab": {
          "base_uri": "https://localhost:8080/",
          "height": 34
        }
      },
      "source": [
        "lst"
      ],
      "execution_count": 0,
      "outputs": [
        {
          "output_type": "execute_result",
          "data": {
            "text/plain": [
              "['name', ['First name', 'Last name'], 'Shrirang', [20, 'Pune'], 'Diwakar']"
            ]
          },
          "metadata": {
            "tags": []
          },
          "execution_count": 26
        }
      ]
    },
    {
      "cell_type": "code",
      "metadata": {
        "id": "oUtHhUDhEcBg",
        "colab_type": "code",
        "colab": {}
      },
      "source": [
        "#append operation\n",
        "lst.append(\"Diwakar\")"
      ],
      "execution_count": 0,
      "outputs": []
    },
    {
      "cell_type": "code",
      "metadata": {
        "id": "4qngNluwGCjZ",
        "colab_type": "code",
        "outputId": "dedada5a-4b72-4248-fb6b-b46b5df12cb0",
        "colab": {
          "base_uri": "https://localhost:8080/",
          "height": 119
        }
      },
      "source": [
        "lst"
      ],
      "execution_count": 0,
      "outputs": [
        {
          "output_type": "execute_result",
          "data": {
            "text/plain": [
              "['name',\n",
              " ['First name', 'Last name'],\n",
              " 'Shrirang',\n",
              " [20, 'Pune'],\n",
              " 'Diwakar',\n",
              " 'Diwakar']"
            ]
          },
          "metadata": {
            "tags": []
          },
          "execution_count": 28
        }
      ]
    },
    {
      "cell_type": "code",
      "metadata": {
        "id": "KlPloZgtGDpY",
        "colab_type": "code",
        "colab": {}
      },
      "source": [
        "#insert \n",
        "lst.insert(1,\"is\")"
      ],
      "execution_count": 0,
      "outputs": []
    },
    {
      "cell_type": "code",
      "metadata": {
        "id": "a5qPD1BQGL3H",
        "colab_type": "code",
        "outputId": "05361e95-e738-4dea-a55b-f0071185bd5a",
        "colab": {
          "base_uri": "https://localhost:8080/",
          "height": 136
        }
      },
      "source": [
        "lst"
      ],
      "execution_count": 0,
      "outputs": [
        {
          "output_type": "execute_result",
          "data": {
            "text/plain": [
              "['name',\n",
              " 'is',\n",
              " ['First name', 'Last name'],\n",
              " 'Shrirang',\n",
              " [20, 'Pune'],\n",
              " 'Diwakar',\n",
              " 'Diwakar']"
            ]
          },
          "metadata": {
            "tags": []
          },
          "execution_count": 30
        }
      ]
    },
    {
      "cell_type": "code",
      "metadata": {
        "id": "kGlmCKZBHxRR",
        "colab_type": "code",
        "colab": {}
      },
      "source": [
        "lst1 = [4,34,67,32,43,56]"
      ],
      "execution_count": 0,
      "outputs": []
    },
    {
      "cell_type": "code",
      "metadata": {
        "id": "MOo_8He0JIuh",
        "colab_type": "code",
        "colab": {}
      },
      "source": [
        "lst1.sort()"
      ],
      "execution_count": 0,
      "outputs": []
    },
    {
      "cell_type": "code",
      "metadata": {
        "id": "mQGwAbOKJukd",
        "colab_type": "code",
        "outputId": "f83a19c0-cb89-4664-8f08-17add28847f3",
        "colab": {
          "base_uri": "https://localhost:8080/",
          "height": 34
        }
      },
      "source": [
        "#list is printed in sorted order\n",
        "lst1"
      ],
      "execution_count": 0,
      "outputs": [
        {
          "output_type": "execute_result",
          "data": {
            "text/plain": [
              "[4, 32, 34, 43, 56, 67]"
            ]
          },
          "metadata": {
            "tags": []
          },
          "execution_count": 38
        }
      ]
    },
    {
      "cell_type": "code",
      "metadata": {
        "id": "nHTGQPSLN3im",
        "colab_type": "code",
        "colab": {}
      },
      "source": [
        "#clear items\n",
        "lst.clear()"
      ],
      "execution_count": 0,
      "outputs": []
    },
    {
      "cell_type": "code",
      "metadata": {
        "id": "LMHHwHBBN3ns",
        "colab_type": "code",
        "outputId": "07df2f9d-9f3d-4ec3-a79d-6965a17c0dc2",
        "colab": {
          "base_uri": "https://localhost:8080/",
          "height": 34
        }
      },
      "source": [
        "lst"
      ],
      "execution_count": 0,
      "outputs": [
        {
          "output_type": "execute_result",
          "data": {
            "text/plain": [
              "[]"
            ]
          },
          "metadata": {
            "tags": []
          },
          "execution_count": 45
        }
      ]
    },
    {
      "cell_type": "code",
      "metadata": {
        "id": "y1Vh2SeuN3sd",
        "colab_type": "code",
        "outputId": "8e14c79f-0621-49fc-9c1e-d3fadefcdd33",
        "colab": {
          "base_uri": "https://localhost:8080/",
          "height": 34
        }
      },
      "source": [
        "#count number of occurences\n",
        "lst1.count(32)"
      ],
      "execution_count": 0,
      "outputs": [
        {
          "output_type": "execute_result",
          "data": {
            "text/plain": [
              "1"
            ]
          },
          "metadata": {
            "tags": []
          },
          "execution_count": 46
        }
      ]
    },
    {
      "cell_type": "code",
      "metadata": {
        "id": "FXrYw58EOF2I",
        "colab_type": "code",
        "colab": {}
      },
      "source": [
        "lst1.append(32)"
      ],
      "execution_count": 0,
      "outputs": []
    },
    {
      "cell_type": "code",
      "metadata": {
        "id": "D2IxGgs5OGAQ",
        "colab_type": "code",
        "outputId": "93b6a4ed-0efb-40c8-9a94-9a7636c21874",
        "colab": {
          "base_uri": "https://localhost:8080/",
          "height": 34
        }
      },
      "source": [
        "lst1.count(32)"
      ],
      "execution_count": 0,
      "outputs": [
        {
          "output_type": "execute_result",
          "data": {
            "text/plain": [
              "2"
            ]
          },
          "metadata": {
            "tags": []
          },
          "execution_count": 48
        }
      ]
    },
    {
      "cell_type": "code",
      "metadata": {
        "id": "L87sLdZSOGG-",
        "colab_type": "code",
        "colab": {}
      },
      "source": [
        "#reverse order of list\n",
        "lst1.reverse()"
      ],
      "execution_count": 0,
      "outputs": []
    },
    {
      "cell_type": "code",
      "metadata": {
        "id": "YeM1XyrdORoo",
        "colab_type": "code",
        "outputId": "616554c0-fa81-42e5-d13a-7f934e7a5de4",
        "colab": {
          "base_uri": "https://localhost:8080/",
          "height": 34
        }
      },
      "source": [
        "lst1"
      ],
      "execution_count": 0,
      "outputs": [
        {
          "output_type": "execute_result",
          "data": {
            "text/plain": [
              "[32, 67, 56, 43, 34, 32, 4]"
            ]
          },
          "metadata": {
            "tags": []
          },
          "execution_count": 54
        }
      ]
    },
    {
      "cell_type": "code",
      "metadata": {
        "id": "R1e5v7-4OcEp",
        "colab_type": "code",
        "colab": {}
      },
      "source": [
        "#returns a shallow copy of list\n",
        "lst2 = lst1.copy()"
      ],
      "execution_count": 0,
      "outputs": []
    },
    {
      "cell_type": "code",
      "metadata": {
        "id": "7W0sjwxtOiFP",
        "colab_type": "code",
        "outputId": "596a007e-38b2-4a97-d866-172daa773f2c",
        "colab": {
          "base_uri": "https://localhost:8080/",
          "height": 34
        }
      },
      "source": [
        "lst2"
      ],
      "execution_count": 0,
      "outputs": [
        {
          "output_type": "execute_result",
          "data": {
            "text/plain": [
              "[32, 67, 56, 43, 34, 32, 4]"
            ]
          },
          "metadata": {
            "tags": []
          },
          "execution_count": 56
        }
      ]
    },
    {
      "cell_type": "markdown",
      "metadata": {
        "id": "jOfsBe9tJ7R5",
        "colab_type": "text"
      },
      "source": [
        "# **Dictionaries**\n",
        "### Dictionary is collection of data in key- value pairs. It is changeable, Unordered and indexed."
      ]
    },
    {
      "cell_type": "code",
      "metadata": {
        "id": "ojSnmVL-KRhu",
        "colab_type": "code",
        "colab": {}
      },
      "source": [
        "dit = {\"My name is\":\"Shrirang Diwakar\",\"I live in\":\"Pune, Maharashtra in India\",\"Profession\":\"Ethical Hacker and Security Analyst\"}"
      ],
      "execution_count": 0,
      "outputs": []
    },
    {
      "cell_type": "code",
      "metadata": {
        "id": "zya_wirxLY78",
        "colab_type": "code",
        "outputId": "4e693bf6-0a84-4970-f89c-d31a8c6e4b51",
        "colab": {
          "base_uri": "https://localhost:8080/",
          "height": 68
        }
      },
      "source": [
        "dit"
      ],
      "execution_count": 0,
      "outputs": [
        {
          "output_type": "execute_result",
          "data": {
            "text/plain": [
              "{'I live in': 'Pune, Maharashtra in India',\n",
              " 'My name is': 'Shrirang Diwakar',\n",
              " 'Profession': 'Ethical Hacker and Security Analyst'}"
            ]
          },
          "metadata": {
            "tags": []
          },
          "execution_count": 40
        }
      ]
    },
    {
      "cell_type": "code",
      "metadata": {
        "id": "5jTq8DfbLs9U",
        "colab_type": "code",
        "outputId": "89ed4715-f5b6-4c4d-cbf4-0ade5d88c1b3",
        "colab": {
          "base_uri": "https://localhost:8080/",
          "height": 34
        }
      },
      "source": [
        "dit.get(\"Profession\")"
      ],
      "execution_count": 0,
      "outputs": [
        {
          "output_type": "execute_result",
          "data": {
            "text/plain": [
              "'Ethical Hacker and Security Analyst'"
            ]
          },
          "metadata": {
            "tags": []
          },
          "execution_count": 42
        }
      ]
    },
    {
      "cell_type": "code",
      "metadata": {
        "id": "O4sz50ocL6sY",
        "colab_type": "code",
        "outputId": "4e1bc782-9cd2-446e-e939-279cd6f3c773",
        "colab": {
          "base_uri": "https://localhost:8080/",
          "height": 34
        }
      },
      "source": [
        "dit.get(\"My name is\")"
      ],
      "execution_count": 0,
      "outputs": [
        {
          "output_type": "execute_result",
          "data": {
            "text/plain": [
              "'Shrirang Diwakar'"
            ]
          },
          "metadata": {
            "tags": []
          },
          "execution_count": 43
        }
      ]
    },
    {
      "cell_type": "markdown",
      "metadata": {
        "id": "lMFNr81ZNKG_",
        "colab_type": "text"
      },
      "source": [
        "##**Default Functions for Dictionary**"
      ]
    },
    {
      "cell_type": "code",
      "metadata": {
        "id": "8ecpOMxGMfyH",
        "colab_type": "code",
        "colab": {}
      },
      "source": [
        "# clear() : clears all the items of dictionary\n",
        "# copy() : returns a shallow copy of dictionary\n",
        "# keys() : returns the set-like object with view of dictionary keys\n",
        "# fromkeys() : Returns a new dict with keys from iterable and values equal to value\n",
        "# get() : Returns value associated with key\n",
        "# items() : returns set-like object providing a view on D's items \n",
        "# pop() : removes & returns the item at given index\n",
        "# values() : returns values of dictionary"
      ],
      "execution_count": 0,
      "outputs": []
    },
    {
      "cell_type": "code",
      "metadata": {
        "id": "xNrzSg_gPRWL",
        "colab_type": "code",
        "outputId": "1add3aad-e36d-4816-bb86-a419d4783775",
        "colab": {
          "base_uri": "https://localhost:8080/",
          "height": 34
        }
      },
      "source": [
        "dit.keys()"
      ],
      "execution_count": 0,
      "outputs": [
        {
          "output_type": "execute_result",
          "data": {
            "text/plain": [
              "dict_keys(['My name is', 'I live in', 'Profession'])"
            ]
          },
          "metadata": {
            "tags": []
          },
          "execution_count": 57
        }
      ]
    },
    {
      "cell_type": "code",
      "metadata": {
        "id": "o2LgUCrqQ9iB",
        "colab_type": "code",
        "outputId": "d708baad-a304-42f5-8adf-5cb99bd0d11f",
        "colab": {
          "base_uri": "https://localhost:8080/",
          "height": 34
        }
      },
      "source": [
        "dit.get(\"My name is\")"
      ],
      "execution_count": 0,
      "outputs": [
        {
          "output_type": "execute_result",
          "data": {
            "text/plain": [
              "'Shrirang Diwakar'"
            ]
          },
          "metadata": {
            "tags": []
          },
          "execution_count": 64
        }
      ]
    },
    {
      "cell_type": "code",
      "metadata": {
        "id": "c7EdDgbPROWZ",
        "colab_type": "code",
        "outputId": "af8ff343-3a70-4f1b-eac2-f0e71c646570",
        "colab": {
          "base_uri": "https://localhost:8080/",
          "height": 34
        }
      },
      "source": [
        "dit.items()"
      ],
      "execution_count": 0,
      "outputs": [
        {
          "output_type": "execute_result",
          "data": {
            "text/plain": [
              "dict_items([('My name is', 'Shrirang Diwakar'), ('I live in', 'Pune, Maharashtra in India'), ('Profession', 'Ethical Hacker and Security Analyst')])"
            ]
          },
          "metadata": {
            "tags": []
          },
          "execution_count": 65
        }
      ]
    },
    {
      "cell_type": "code",
      "metadata": {
        "id": "TuQ5wR-bRrTX",
        "colab_type": "code",
        "outputId": "2289749e-6b40-4fbe-c399-f9e2197e7f0d",
        "colab": {
          "base_uri": "https://localhost:8080/",
          "height": 34
        }
      },
      "source": [
        "dit.values()"
      ],
      "execution_count": 0,
      "outputs": [
        {
          "output_type": "execute_result",
          "data": {
            "text/plain": [
              "dict_values(['Shrirang Diwakar', 'Pune, Maharashtra in India', 'Ethical Hacker and Security Analyst'])"
            ]
          },
          "metadata": {
            "tags": []
          },
          "execution_count": 66
        }
      ]
    },
    {
      "cell_type": "code",
      "metadata": {
        "id": "IcA_OBYuRt5_",
        "colab_type": "code",
        "outputId": "fe1b8ad4-849f-4e3f-df5e-e57d9873ff2e",
        "colab": {
          "base_uri": "https://localhost:8080/",
          "height": 34
        }
      },
      "source": [
        "dit.pop(\"I live in\")"
      ],
      "execution_count": 0,
      "outputs": [
        {
          "output_type": "execute_result",
          "data": {
            "text/plain": [
              "'Pune, Maharashtra in India'"
            ]
          },
          "metadata": {
            "tags": []
          },
          "execution_count": 67
        }
      ]
    },
    {
      "cell_type": "code",
      "metadata": {
        "id": "aGZ1qu4dRy5l",
        "colab_type": "code",
        "outputId": "2644d11d-00c7-4d27-c908-0c4b75ac97a3",
        "colab": {
          "base_uri": "https://localhost:8080/",
          "height": 51
        }
      },
      "source": [
        "dit"
      ],
      "execution_count": 0,
      "outputs": [
        {
          "output_type": "execute_result",
          "data": {
            "text/plain": [
              "{'My name is': 'Shrirang Diwakar',\n",
              " 'Profession': 'Ethical Hacker and Security Analyst'}"
            ]
          },
          "metadata": {
            "tags": []
          },
          "execution_count": 68
        }
      ]
    },
    {
      "cell_type": "code",
      "metadata": {
        "id": "xIOTDmpzR08M",
        "colab_type": "code",
        "colab": {}
      },
      "source": [
        "dit[\"Nationality\"] = \"Indian\""
      ],
      "execution_count": 0,
      "outputs": []
    },
    {
      "cell_type": "code",
      "metadata": {
        "id": "xtgxgJHNSCiQ",
        "colab_type": "code",
        "outputId": "4fa709bb-62fc-4a84-ca7c-1cb5c8f4190d",
        "colab": {
          "base_uri": "https://localhost:8080/",
          "height": 68
        }
      },
      "source": [
        "dit"
      ],
      "execution_count": 0,
      "outputs": [
        {
          "output_type": "execute_result",
          "data": {
            "text/plain": [
              "{'My name is': 'Shrirang Diwakar',\n",
              " 'Nationality': 'Indian',\n",
              " 'Profession': 'Ethical Hacker and Security Analyst'}"
            ]
          },
          "metadata": {
            "tags": []
          },
          "execution_count": 73
        }
      ]
    },
    {
      "cell_type": "code",
      "metadata": {
        "id": "UEOeVBDuScCg",
        "colab_type": "code",
        "outputId": "5ceacd93-b801-4ed6-89e0-fab9f6144094",
        "colab": {
          "base_uri": "https://localhost:8080/",
          "height": 34
        }
      },
      "source": [
        "#use square brackets if get() not used\n",
        "dit[\"Nationality\"]"
      ],
      "execution_count": 0,
      "outputs": [
        {
          "output_type": "execute_result",
          "data": {
            "text/plain": [
              "'Indian'"
            ]
          },
          "metadata": {
            "tags": []
          },
          "execution_count": 75
        }
      ]
    },
    {
      "cell_type": "code",
      "metadata": {
        "id": "vK3fi7rcSe0X",
        "colab_type": "code",
        "colab": {}
      },
      "source": [
        "dit.clear()"
      ],
      "execution_count": 0,
      "outputs": []
    },
    {
      "cell_type": "code",
      "metadata": {
        "id": "_23JlcqrSwmc",
        "colab_type": "code",
        "colab": {}
      },
      "source": [
        "squares = {1:1,2:4,3:9,4:16,5:25}"
      ],
      "execution_count": 0,
      "outputs": []
    },
    {
      "cell_type": "code",
      "metadata": {
        "id": "Ck59ic9uS-BB",
        "colab_type": "code",
        "colab": {}
      },
      "source": [
        "dit = squares.copy()"
      ],
      "execution_count": 0,
      "outputs": []
    },
    {
      "cell_type": "code",
      "metadata": {
        "id": "W5jMy9uTTE_I",
        "colab_type": "code",
        "outputId": "9b6cadf6-95d3-43a8-80c6-73c4d87f0359",
        "colab": {
          "base_uri": "https://localhost:8080/",
          "height": 34
        }
      },
      "source": [
        "dit"
      ],
      "execution_count": 0,
      "outputs": [
        {
          "output_type": "execute_result",
          "data": {
            "text/plain": [
              "{1: 1, 2: 4, 3: 9, 4: 16, 5: 25}"
            ]
          },
          "metadata": {
            "tags": []
          },
          "execution_count": 79
        }
      ]
    },
    {
      "cell_type": "code",
      "metadata": {
        "id": "ilypn0ovTGDF",
        "colab_type": "code",
        "colab": {}
      },
      "source": [
        "dit1 = {5 : \"twenty Five\"}"
      ],
      "execution_count": 0,
      "outputs": []
    },
    {
      "cell_type": "code",
      "metadata": {
        "id": "HWuWHpCdTaIn",
        "colab_type": "code",
        "colab": {}
      },
      "source": [
        "dit.update(dit1)"
      ],
      "execution_count": 0,
      "outputs": []
    },
    {
      "cell_type": "code",
      "metadata": {
        "id": "96m6pClrTh1d",
        "colab_type": "code",
        "outputId": "a46c8fae-cfbb-4fd5-a9a7-03a2ab5f8ed9",
        "colab": {
          "base_uri": "https://localhost:8080/",
          "height": 34
        }
      },
      "source": [
        "dit"
      ],
      "execution_count": 0,
      "outputs": [
        {
          "output_type": "execute_result",
          "data": {
            "text/plain": [
              "{1: 1, 2: 4, 3: 9, 4: 16, 5: 'twenty Five'}"
            ]
          },
          "metadata": {
            "tags": []
          },
          "execution_count": 82
        }
      ]
    },
    {
      "cell_type": "code",
      "metadata": {
        "id": "a3tOafQXTjO7",
        "colab_type": "code",
        "colab": {}
      },
      "source": [
        "dit.clear()"
      ],
      "execution_count": 0,
      "outputs": []
    },
    {
      "cell_type": "code",
      "metadata": {
        "id": "D1kueetsT2Cd",
        "colab_type": "code",
        "colab": {}
      },
      "source": [
        "#fromkeys\n",
        "keys = {'a','e','i','o','u'}\n",
        "value = 'vowel'"
      ],
      "execution_count": 0,
      "outputs": []
    },
    {
      "cell_type": "code",
      "metadata": {
        "id": "EoW_eDl6UQeU",
        "colab_type": "code",
        "colab": {}
      },
      "source": [
        "vowels = dict.fromkeys(keys,value)"
      ],
      "execution_count": 0,
      "outputs": []
    },
    {
      "cell_type": "code",
      "metadata": {
        "id": "JHuF98qNUbbE",
        "colab_type": "code",
        "outputId": "5a0b6df9-6c5a-475a-f725-b900fcc04247",
        "colab": {
          "base_uri": "https://localhost:8080/",
          "height": 34
        }
      },
      "source": [
        "vowels"
      ],
      "execution_count": 0,
      "outputs": [
        {
          "output_type": "execute_result",
          "data": {
            "text/plain": [
              "{'a': 'vowel', 'e': 'vowel', 'i': 'vowel', 'o': 'vowel', 'u': 'vowel'}"
            ]
          },
          "metadata": {
            "tags": []
          },
          "execution_count": 87
        }
      ]
    },
    {
      "cell_type": "code",
      "metadata": {
        "id": "wJJCVpEKUchi",
        "colab_type": "code",
        "colab": {}
      },
      "source": [
        "person = {'Name':'Shrirang','Age':20}"
      ],
      "execution_count": 0,
      "outputs": []
    },
    {
      "cell_type": "code",
      "metadata": {
        "id": "tt35IKG4U0PS",
        "colab_type": "code",
        "colab": {}
      },
      "source": [
        "Age = person.setdefault('Age')"
      ],
      "execution_count": 0,
      "outputs": []
    },
    {
      "cell_type": "code",
      "metadata": {
        "id": "n08VHxBoVCG3",
        "colab_type": "code",
        "outputId": "25a16391-8364-494a-fcd9-6db042f582c1",
        "colab": {
          "base_uri": "https://localhost:8080/",
          "height": 34
        }
      },
      "source": [
        "Age"
      ],
      "execution_count": 0,
      "outputs": [
        {
          "output_type": "execute_result",
          "data": {
            "text/plain": [
              "20"
            ]
          },
          "metadata": {
            "tags": []
          },
          "execution_count": 97
        }
      ]
    },
    {
      "cell_type": "code",
      "metadata": {
        "id": "bItMnqrhVVm9",
        "colab_type": "code",
        "outputId": "9a5290fd-a294-49da-fa21-db1269405810",
        "colab": {
          "base_uri": "https://localhost:8080/",
          "height": 34
        }
      },
      "source": [
        "person.get(\"Name\")"
      ],
      "execution_count": 0,
      "outputs": [
        {
          "output_type": "execute_result",
          "data": {
            "text/plain": [
              "'Shrirang'"
            ]
          },
          "metadata": {
            "tags": []
          },
          "execution_count": 98
        }
      ]
    },
    {
      "cell_type": "code",
      "metadata": {
        "id": "EioXWzqsVtnb",
        "colab_type": "code",
        "outputId": "8fc5896c-4fe4-49b3-96e7-03d60ad2eb07",
        "colab": {
          "base_uri": "https://localhost:8080/",
          "height": 34
        }
      },
      "source": [
        "Age"
      ],
      "execution_count": 0,
      "outputs": [
        {
          "output_type": "execute_result",
          "data": {
            "text/plain": [
              "20"
            ]
          },
          "metadata": {
            "tags": []
          },
          "execution_count": 99
        }
      ]
    },
    {
      "cell_type": "markdown",
      "metadata": {
        "id": "-KpO56roVwV4",
        "colab_type": "text"
      },
      "source": [
        "# **Sets**\n",
        "### Unordered collection of unique objects"
      ]
    },
    {
      "cell_type": "code",
      "metadata": {
        "id": "GztPGvSZWQgO",
        "colab_type": "code",
        "colab": {}
      },
      "source": [
        "sets = {'shrirang',2,34,12,'diwakar',4,5}"
      ],
      "execution_count": 0,
      "outputs": []
    },
    {
      "cell_type": "code",
      "metadata": {
        "id": "IfP2NhNHWZLn",
        "colab_type": "code",
        "outputId": "0e5b9fc8-a03c-4491-f8a2-eaebf91b3a9d",
        "colab": {
          "base_uri": "https://localhost:8080/",
          "height": 34
        }
      },
      "source": [
        "sets"
      ],
      "execution_count": 0,
      "outputs": [
        {
          "output_type": "execute_result",
          "data": {
            "text/plain": [
              "{12, 2, 34, 4, 5, 'diwakar', 'shrirang'}"
            ]
          },
          "metadata": {
            "tags": []
          },
          "execution_count": 102
        }
      ]
    },
    {
      "cell_type": "markdown",
      "metadata": {
        "id": "pLcnLMYdWgO2",
        "colab_type": "text"
      },
      "source": [
        "##**Functions in Set**"
      ]
    },
    {
      "cell_type": "code",
      "metadata": {
        "id": "LyVmNlVAWm7I",
        "colab_type": "code",
        "colab": {}
      },
      "source": [
        "#add() : Adds an element to the set\n",
        "#clear() : Removes all elements from set\n",
        "#copy() : returns a copy of set\n",
        "#difference() : returns a difference of two or more sets as a new set\n",
        "#discard() : removes an element from set\n",
        "#intersection() : returns intersection of two sets as a new set\n",
        "#issubset() : returns true if another set contains this set\n",
        "#pop() : removes and returns an arbitrary set element.\n",
        "#remove() : removes an element from the set\n",
        "#union() : Returns the union of sets in a new set"
      ],
      "execution_count": 0,
      "outputs": []
    },
    {
      "cell_type": "code",
      "metadata": {
        "id": "-ZXHMN9uXp2E",
        "colab_type": "code",
        "colab": {}
      },
      "source": [
        "sets.add(22)"
      ],
      "execution_count": 0,
      "outputs": []
    },
    {
      "cell_type": "code",
      "metadata": {
        "id": "Rh6wqCksXuzC",
        "colab_type": "code",
        "outputId": "3fa1550c-21a7-4fb4-f31a-446481f913b2",
        "colab": {
          "base_uri": "https://localhost:8080/",
          "height": 34
        }
      },
      "source": [
        "sets\n",
        "\n"
      ],
      "execution_count": 0,
      "outputs": [
        {
          "output_type": "execute_result",
          "data": {
            "text/plain": [
              "{12, 2, 22, 34, 4, 5, 'diwakar', 'shrirang'}"
            ]
          },
          "metadata": {
            "tags": []
          },
          "execution_count": 104
        }
      ]
    },
    {
      "cell_type": "code",
      "metadata": {
        "id": "1IkAG9qIXxsJ",
        "colab_type": "code",
        "colab": {}
      },
      "source": [
        "sets1 = sets.copy()"
      ],
      "execution_count": 0,
      "outputs": []
    },
    {
      "cell_type": "code",
      "metadata": {
        "id": "Yt7WrYdaX2h0",
        "colab_type": "code",
        "outputId": "600268e8-c85c-46e9-92d0-5c69b2a7bbcf",
        "colab": {
          "base_uri": "https://localhost:8080/",
          "height": 34
        }
      },
      "source": [
        "sets1"
      ],
      "execution_count": 0,
      "outputs": [
        {
          "output_type": "execute_result",
          "data": {
            "text/plain": [
              "{12, 2, 22, 34, 4, 5, 'diwakar', 'shrirang'}"
            ]
          },
          "metadata": {
            "tags": []
          },
          "execution_count": 106
        }
      ]
    },
    {
      "cell_type": "code",
      "metadata": {
        "id": "2LpkBWCiX3cE",
        "colab_type": "code",
        "colab": {}
      },
      "source": [
        "sets.clear()"
      ],
      "execution_count": 0,
      "outputs": []
    },
    {
      "cell_type": "code",
      "metadata": {
        "id": "VBBQ6RgLX5jX",
        "colab_type": "code",
        "colab": {}
      },
      "source": [
        "sets1.clear()"
      ],
      "execution_count": 0,
      "outputs": []
    },
    {
      "cell_type": "code",
      "metadata": {
        "id": "UPyp7GeAX_NU",
        "colab_type": "code",
        "colab": {}
      },
      "source": [
        "A = {1,3,2,6,4,\"shri\"}\n",
        "B = {3,2,4,\"diwakar\"}"
      ],
      "execution_count": 0,
      "outputs": []
    },
    {
      "cell_type": "code",
      "metadata": {
        "id": "sgz9DcWKYCuX",
        "colab_type": "code",
        "colab": {}
      },
      "source": [
        "diff = A.difference(B)"
      ],
      "execution_count": 0,
      "outputs": []
    },
    {
      "cell_type": "code",
      "metadata": {
        "id": "7QL1leUkYQQ0",
        "colab_type": "code",
        "outputId": "8342c172-d348-4f0a-fa16-f9bdfb7b6b19",
        "colab": {
          "base_uri": "https://localhost:8080/",
          "height": 34
        }
      },
      "source": [
        "diff"
      ],
      "execution_count": 0,
      "outputs": [
        {
          "output_type": "execute_result",
          "data": {
            "text/plain": [
              "{1, 6, 'shri'}"
            ]
          },
          "metadata": {
            "tags": []
          },
          "execution_count": 112
        }
      ]
    },
    {
      "cell_type": "code",
      "metadata": {
        "id": "3ITPZAFsYRDE",
        "colab_type": "code",
        "colab": {}
      },
      "source": [
        "diff1 = B.difference(A)"
      ],
      "execution_count": 0,
      "outputs": []
    },
    {
      "cell_type": "code",
      "metadata": {
        "id": "cLPyQIXTYW6W",
        "colab_type": "code",
        "outputId": "61fba1a0-72f0-4004-c061-bde6316f0174",
        "colab": {
          "base_uri": "https://localhost:8080/",
          "height": 34
        }
      },
      "source": [
        "diff1"
      ],
      "execution_count": 0,
      "outputs": [
        {
          "output_type": "execute_result",
          "data": {
            "text/plain": [
              "{'diwakar'}"
            ]
          },
          "metadata": {
            "tags": []
          },
          "execution_count": 114
        }
      ]
    },
    {
      "cell_type": "code",
      "metadata": {
        "id": "e8ANPEiiYZRb",
        "colab_type": "code",
        "colab": {}
      },
      "source": [
        "A.discard('shri')"
      ],
      "execution_count": 0,
      "outputs": []
    },
    {
      "cell_type": "code",
      "metadata": {
        "id": "MPnho_6gYfYB",
        "colab_type": "code",
        "outputId": "9d18a7e5-1a13-4be8-d855-59a6f0e15156",
        "colab": {
          "base_uri": "https://localhost:8080/",
          "height": 34
        }
      },
      "source": [
        "A"
      ],
      "execution_count": 0,
      "outputs": [
        {
          "output_type": "execute_result",
          "data": {
            "text/plain": [
              "{1, 2, 3, 4, 6}"
            ]
          },
          "metadata": {
            "tags": []
          },
          "execution_count": 116
        }
      ]
    },
    {
      "cell_type": "code",
      "metadata": {
        "id": "miI_t-eFYgUp",
        "colab_type": "code",
        "colab": {}
      },
      "source": [
        "A.add(\"shri\")"
      ],
      "execution_count": 0,
      "outputs": []
    },
    {
      "cell_type": "code",
      "metadata": {
        "id": "hUQNsiVeYn5-",
        "colab_type": "code",
        "outputId": "7e4eb0a9-4da4-4a1d-c9da-b9a51a96c099",
        "colab": {
          "base_uri": "https://localhost:8080/",
          "height": 34
        }
      },
      "source": [
        "A"
      ],
      "execution_count": 0,
      "outputs": [
        {
          "output_type": "execute_result",
          "data": {
            "text/plain": [
              "{1, 2, 3, 4, 6, 'shri'}"
            ]
          },
          "metadata": {
            "tags": []
          },
          "execution_count": 118
        }
      ]
    },
    {
      "cell_type": "code",
      "metadata": {
        "id": "HdY7MEM3YovV",
        "colab_type": "code",
        "colab": {}
      },
      "source": [
        "inter = A.intersection(B)"
      ],
      "execution_count": 0,
      "outputs": []
    },
    {
      "cell_type": "code",
      "metadata": {
        "id": "KNJYQp9hYxZ0",
        "colab_type": "code",
        "outputId": "070659f1-6144-467d-e37e-1ecee2abbfdf",
        "colab": {
          "base_uri": "https://localhost:8080/",
          "height": 34
        }
      },
      "source": [
        "inter"
      ],
      "execution_count": 0,
      "outputs": [
        {
          "output_type": "execute_result",
          "data": {
            "text/plain": [
              "{2, 3, 4}"
            ]
          },
          "metadata": {
            "tags": []
          },
          "execution_count": 120
        }
      ]
    },
    {
      "cell_type": "code",
      "metadata": {
        "id": "l4s4FCdOYyDC",
        "colab_type": "code",
        "colab": {}
      },
      "source": [
        "union = A.union(B)"
      ],
      "execution_count": 0,
      "outputs": []
    },
    {
      "cell_type": "code",
      "metadata": {
        "id": "FmnqhUHWY3V-",
        "colab_type": "code",
        "outputId": "2026ed1f-9235-4978-ebb0-ac85ad3ee55a",
        "colab": {
          "base_uri": "https://localhost:8080/",
          "height": 34
        }
      },
      "source": [
        "union"
      ],
      "execution_count": 0,
      "outputs": [
        {
          "output_type": "execute_result",
          "data": {
            "text/plain": [
              "{1, 2, 3, 4, 6, 'diwakar', 'shri'}"
            ]
          },
          "metadata": {
            "tags": []
          },
          "execution_count": 122
        }
      ]
    },
    {
      "cell_type": "code",
      "metadata": {
        "id": "E3-PYfH_Y4Lh",
        "colab_type": "code",
        "outputId": "a194f47f-1ed2-4ca8-9307-d64c699f19ad",
        "colab": {
          "base_uri": "https://localhost:8080/",
          "height": 34
        }
      },
      "source": [
        "A.issubset(B)"
      ],
      "execution_count": 0,
      "outputs": [
        {
          "output_type": "execute_result",
          "data": {
            "text/plain": [
              "False"
            ]
          },
          "metadata": {
            "tags": []
          },
          "execution_count": 123
        }
      ]
    },
    {
      "cell_type": "code",
      "metadata": {
        "id": "NUYtdH6VY-lB",
        "colab_type": "code",
        "colab": {}
      },
      "source": [
        "C = {1,2,4}"
      ],
      "execution_count": 0,
      "outputs": []
    },
    {
      "cell_type": "code",
      "metadata": {
        "id": "yyuG2RhsZDG6",
        "colab_type": "code",
        "outputId": "7a4eb78d-f98d-4c04-a3d3-01426d86de6a",
        "colab": {
          "base_uri": "https://localhost:8080/",
          "height": 34
        }
      },
      "source": [
        "C.issubset(A)"
      ],
      "execution_count": 0,
      "outputs": [
        {
          "output_type": "execute_result",
          "data": {
            "text/plain": [
              "True"
            ]
          },
          "metadata": {
            "tags": []
          },
          "execution_count": 125
        }
      ]
    },
    {
      "cell_type": "code",
      "metadata": {
        "id": "u1yFIlZyZFde",
        "colab_type": "code",
        "outputId": "e65fa86b-3884-40c9-8f28-cf1904b4146c",
        "colab": {
          "base_uri": "https://localhost:8080/",
          "height": 34
        }
      },
      "source": [
        "A.pop()"
      ],
      "execution_count": 0,
      "outputs": [
        {
          "output_type": "execute_result",
          "data": {
            "text/plain": [
              "1"
            ]
          },
          "metadata": {
            "tags": []
          },
          "execution_count": 127
        }
      ]
    },
    {
      "cell_type": "code",
      "metadata": {
        "id": "TujTaHosZKOu",
        "colab_type": "code",
        "outputId": "04085c84-d3cd-447c-8921-a4baa9b55eb5",
        "colab": {
          "base_uri": "https://localhost:8080/",
          "height": 34
        }
      },
      "source": [
        "A.pop()"
      ],
      "execution_count": 0,
      "outputs": [
        {
          "output_type": "execute_result",
          "data": {
            "text/plain": [
              "2"
            ]
          },
          "metadata": {
            "tags": []
          },
          "execution_count": 128
        }
      ]
    },
    {
      "cell_type": "code",
      "metadata": {
        "id": "BdhGFQY5ZOAW",
        "colab_type": "code",
        "colab": {}
      },
      "source": [
        "A.remove('shri')"
      ],
      "execution_count": 0,
      "outputs": []
    },
    {
      "cell_type": "code",
      "metadata": {
        "id": "SZJzyrNEZSkc",
        "colab_type": "code",
        "outputId": "ffd7cce4-e272-44d2-d9f4-0002c79e2738",
        "colab": {
          "base_uri": "https://localhost:8080/",
          "height": 34
        }
      },
      "source": [
        "A"
      ],
      "execution_count": 0,
      "outputs": [
        {
          "output_type": "execute_result",
          "data": {
            "text/plain": [
              "{3, 4, 6}"
            ]
          },
          "metadata": {
            "tags": []
          },
          "execution_count": 130
        }
      ]
    },
    {
      "cell_type": "markdown",
      "metadata": {
        "id": "W7vGYneNZfv6",
        "colab_type": "text"
      },
      "source": [
        "# **Tuple**\n",
        "### Immutable Collection that is ordered"
      ]
    },
    {
      "cell_type": "code",
      "metadata": {
        "id": "crmSgDVjZvrM",
        "colab_type": "code",
        "colab": {}
      },
      "source": [
        "tup = ('Shrirang','Diwakar',20,'13-11-1999')"
      ],
      "execution_count": 0,
      "outputs": []
    },
    {
      "cell_type": "code",
      "metadata": {
        "id": "ql9Syi7yZ5gT",
        "colab_type": "code",
        "outputId": "db48d640-d5cc-4431-a6a2-2754f35e879e",
        "colab": {
          "base_uri": "https://localhost:8080/",
          "height": 34
        }
      },
      "source": [
        "tup.count(20)"
      ],
      "execution_count": 0,
      "outputs": [
        {
          "output_type": "execute_result",
          "data": {
            "text/plain": [
              "1"
            ]
          },
          "metadata": {
            "tags": []
          },
          "execution_count": 134
        }
      ]
    },
    {
      "cell_type": "code",
      "metadata": {
        "id": "4VUZoyIIZ7Zx",
        "colab_type": "code",
        "outputId": "c7d60dbe-53af-43cd-a21f-d42ec2b07c9a",
        "colab": {
          "base_uri": "https://localhost:8080/",
          "height": 34
        }
      },
      "source": [
        "tup.count('Shrirang')"
      ],
      "execution_count": 0,
      "outputs": [
        {
          "output_type": "execute_result",
          "data": {
            "text/plain": [
              "1"
            ]
          },
          "metadata": {
            "tags": []
          },
          "execution_count": 135
        }
      ]
    },
    {
      "cell_type": "code",
      "metadata": {
        "id": "W7F1t1bAaF_6",
        "colab_type": "code",
        "outputId": "c6b9f1e8-df99-4d0f-ed3b-5e5b6b5f6866",
        "colab": {
          "base_uri": "https://localhost:8080/",
          "height": 34
        }
      },
      "source": [
        "tup.index('Diwakar')"
      ],
      "execution_count": 0,
      "outputs": [
        {
          "output_type": "execute_result",
          "data": {
            "text/plain": [
              "1"
            ]
          },
          "metadata": {
            "tags": []
          },
          "execution_count": 136
        }
      ]
    },
    {
      "cell_type": "code",
      "metadata": {
        "id": "Z5HLIPNkaJ0-",
        "colab_type": "code",
        "outputId": "561b8f1e-d41a-46a4-a706-70b119019cfd",
        "colab": {
          "base_uri": "https://localhost:8080/",
          "height": 34
        }
      },
      "source": [
        "tup.index('13-11-1999')"
      ],
      "execution_count": 0,
      "outputs": [
        {
          "output_type": "execute_result",
          "data": {
            "text/plain": [
              "3"
            ]
          },
          "metadata": {
            "tags": []
          },
          "execution_count": 137
        }
      ]
    },
    {
      "cell_type": "code",
      "metadata": {
        "id": "wl3Sn2T0aMU9",
        "colab_type": "code",
        "outputId": "e237a069-71fc-4dac-d8aa-bceaa87655cb",
        "colab": {
          "base_uri": "https://localhost:8080/",
          "height": 34
        }
      },
      "source": [
        "len(tup)"
      ],
      "execution_count": 0,
      "outputs": [
        {
          "output_type": "execute_result",
          "data": {
            "text/plain": [
              "4"
            ]
          },
          "metadata": {
            "tags": []
          },
          "execution_count": 138
        }
      ]
    },
    {
      "cell_type": "code",
      "metadata": {
        "id": "LkZKWDw7aRyT",
        "colab_type": "code",
        "outputId": "7e7ba6f7-1b01-413c-ef51-8883e3ba31bc",
        "colab": {
          "base_uri": "https://localhost:8080/",
          "height": 34
        }
      },
      "source": [
        "tup[1:3]"
      ],
      "execution_count": 0,
      "outputs": [
        {
          "output_type": "execute_result",
          "data": {
            "text/plain": [
              "('Diwakar', 20)"
            ]
          },
          "metadata": {
            "tags": []
          },
          "execution_count": 143
        }
      ]
    },
    {
      "cell_type": "markdown",
      "metadata": {
        "id": "pODqt7TTaqRm",
        "colab_type": "text"
      },
      "source": [
        "# **Strings**\n",
        "### Strings are sequence of characters. We can create it by enclosing characters within quotes. Very simple to assign"
      ]
    },
    {
      "cell_type": "code",
      "metadata": {
        "id": "3piUWK8vaU6R",
        "colab_type": "code",
        "colab": {}
      },
      "source": [
        "str1 = 'Shrirang'\n",
        "str2 = 'Diwakar'"
      ],
      "execution_count": 0,
      "outputs": []
    },
    {
      "cell_type": "code",
      "metadata": {
        "id": "ZBj7HzyobDMq",
        "colab_type": "code",
        "outputId": "55bdcfbe-7821-4deb-8b59-bb99cdbef916",
        "colab": {
          "base_uri": "https://localhost:8080/",
          "height": 34
        }
      },
      "source": [
        "str1"
      ],
      "execution_count": 0,
      "outputs": [
        {
          "output_type": "execute_result",
          "data": {
            "text/plain": [
              "'Shrirang'"
            ]
          },
          "metadata": {
            "tags": []
          },
          "execution_count": 145
        }
      ]
    },
    {
      "cell_type": "code",
      "metadata": {
        "id": "2z7d1FU_bMzJ",
        "colab_type": "code",
        "colab": {}
      },
      "source": [
        "str3 = 'Hello world'\n",
        "str4 = 'Welcome to Python Programming'"
      ],
      "execution_count": 0,
      "outputs": []
    },
    {
      "cell_type": "code",
      "metadata": {
        "id": "iVpBGFLcbW96",
        "colab_type": "code",
        "outputId": "71bedd21-b413-462a-91fd-332a312630f0",
        "colab": {
          "base_uri": "https://localhost:8080/",
          "height": 34
        }
      },
      "source": [
        "str3"
      ],
      "execution_count": 0,
      "outputs": [
        {
          "output_type": "execute_result",
          "data": {
            "text/plain": [
              "'Hello world'"
            ]
          },
          "metadata": {
            "tags": []
          },
          "execution_count": 147
        }
      ]
    },
    {
      "cell_type": "code",
      "metadata": {
        "id": "XkaQ-m8fbY8V",
        "colab_type": "code",
        "outputId": "926e8731-3a05-4402-8331-26ed3597cdb5",
        "colab": {
          "base_uri": "https://localhost:8080/",
          "height": 34
        }
      },
      "source": [
        "str1[0]"
      ],
      "execution_count": 0,
      "outputs": [
        {
          "output_type": "execute_result",
          "data": {
            "text/plain": [
              "'S'"
            ]
          },
          "metadata": {
            "tags": []
          },
          "execution_count": 148
        }
      ]
    },
    {
      "cell_type": "code",
      "metadata": {
        "id": "ukXdU_Wtbi8o",
        "colab_type": "code",
        "outputId": "d7422c1c-01a6-4817-e217-7ec316073014",
        "colab": {
          "base_uri": "https://localhost:8080/",
          "height": 34
        }
      },
      "source": [
        "print(\"4 letter of string 3 is:\", str3[4])"
      ],
      "execution_count": 0,
      "outputs": [
        {
          "output_type": "stream",
          "text": [
            "4 letter of string 3 is: o\n"
          ],
          "name": "stdout"
        }
      ]
    },
    {
      "cell_type": "code",
      "metadata": {
        "id": "7ZAiGwFAbsqi",
        "colab_type": "code",
        "outputId": "76842872-561f-448f-9952-e7cee64570d5",
        "colab": {
          "base_uri": "https://localhost:8080/",
          "height": 34
        }
      },
      "source": [
        "print(\"letters 2 to 10 of str4 are:\", str4[2:10])"
      ],
      "execution_count": 0,
      "outputs": [
        {
          "output_type": "stream",
          "text": [
            "letters 2 to 10 of str4 are: lcome to\n"
          ],
          "name": "stdout"
        }
      ]
    },
    {
      "cell_type": "code",
      "metadata": {
        "id": "HLPKMR6GcDGT",
        "colab_type": "code",
        "outputId": "513b436c-20c3-4c6c-8f37-d8a6da1a5a91",
        "colab": {
          "base_uri": "https://localhost:8080/",
          "height": 34
        }
      },
      "source": [
        "#updating string by giving position and append new word from that position\n",
        "print(\"Updated string is :\", str3[:6] + 'Techies')"
      ],
      "execution_count": 0,
      "outputs": [
        {
          "output_type": "stream",
          "text": [
            "Updated string is : Hello Techies\n"
          ],
          "name": "stdout"
        }
      ]
    },
    {
      "cell_type": "code",
      "metadata": {
        "id": "HuC3rIdCcVhS",
        "colab_type": "code",
        "outputId": "3c1c0109-561c-4b34-b07a-3dd14c6d1c3e",
        "colab": {
          "base_uri": "https://localhost:8080/",
          "height": 34
        }
      },
      "source": [
        "#number of occurences\n",
        "str1.count('S')"
      ],
      "execution_count": 0,
      "outputs": [
        {
          "output_type": "execute_result",
          "data": {
            "text/plain": [
              "1"
            ]
          },
          "metadata": {
            "tags": []
          },
          "execution_count": 154
        }
      ]
    },
    {
      "cell_type": "code",
      "metadata": {
        "id": "MFwmnuxCcoEB",
        "colab_type": "code",
        "outputId": "c0de8b62-95af-463b-f6d9-7f6b88901328",
        "colab": {
          "base_uri": "https://localhost:8080/",
          "height": 34
        }
      },
      "source": [
        "#will check if string is in uppercase\n",
        "str1.isupper()"
      ],
      "execution_count": 0,
      "outputs": [
        {
          "output_type": "execute_result",
          "data": {
            "text/plain": [
              "False"
            ]
          },
          "metadata": {
            "tags": []
          },
          "execution_count": 155
        }
      ]
    },
    {
      "cell_type": "code",
      "metadata": {
        "id": "VAG7aIc2cweQ",
        "colab_type": "code",
        "outputId": "f0627a4e-6d23-452d-e5b0-9be46d130390",
        "colab": {
          "base_uri": "https://localhost:8080/",
          "height": 34
        }
      },
      "source": [
        "#will return string with uppercased\n",
        "str1.upper()"
      ],
      "execution_count": 0,
      "outputs": [
        {
          "output_type": "execute_result",
          "data": {
            "text/plain": [
              "'SHRIRANG'"
            ]
          },
          "metadata": {
            "tags": []
          },
          "execution_count": 156
        }
      ]
    },
    {
      "cell_type": "code",
      "metadata": {
        "id": "-fh3ihCwc178",
        "colab_type": "code",
        "outputId": "25a60cc5-cb85-4f36-9cab-5ef914387a15",
        "colab": {
          "base_uri": "https://localhost:8080/",
          "height": 34
        }
      },
      "source": [
        "str1.isupper()"
      ],
      "execution_count": 0,
      "outputs": [
        {
          "output_type": "execute_result",
          "data": {
            "text/plain": [
              "False"
            ]
          },
          "metadata": {
            "tags": []
          },
          "execution_count": 157
        }
      ]
    },
    {
      "cell_type": "code",
      "metadata": {
        "id": "D8QIdY8zc4d_",
        "colab_type": "code",
        "outputId": "e5ac613f-0aca-498f-8098-eeabf127c15e",
        "colab": {
          "base_uri": "https://localhost:8080/",
          "height": 34
        }
      },
      "source": [
        "str1"
      ],
      "execution_count": 0,
      "outputs": [
        {
          "output_type": "execute_result",
          "data": {
            "text/plain": [
              "'Shrirang'"
            ]
          },
          "metadata": {
            "tags": []
          },
          "execution_count": 158
        }
      ]
    },
    {
      "cell_type": "code",
      "metadata": {
        "id": "_064Q_ylc6Il",
        "colab_type": "code",
        "outputId": "f8646ce6-364b-45d8-8e11-fc376a33b2e0",
        "colab": {
          "base_uri": "https://localhost:8080/",
          "height": 34
        }
      },
      "source": [
        "#return string with first character capitalized and rest lowercase\n",
        "str1.capitalize()"
      ],
      "execution_count": 0,
      "outputs": [
        {
          "output_type": "execute_result",
          "data": {
            "text/plain": [
              "'Shrirang'"
            ]
          },
          "metadata": {
            "tags": []
          },
          "execution_count": 159
        }
      ]
    },
    {
      "cell_type": "code",
      "metadata": {
        "id": "UbmDXsPgc_m2",
        "colab_type": "code",
        "colab": {}
      },
      "source": [
        "str5 = str1.upper()"
      ],
      "execution_count": 0,
      "outputs": []
    },
    {
      "cell_type": "code",
      "metadata": {
        "id": "wPNdpY0ydIGL",
        "colab_type": "code",
        "outputId": "04c68c53-f320-4a9e-ef03-e4b76dc7edcf",
        "colab": {
          "base_uri": "https://localhost:8080/",
          "height": 34
        }
      },
      "source": [
        "str5"
      ],
      "execution_count": 0,
      "outputs": [
        {
          "output_type": "execute_result",
          "data": {
            "text/plain": [
              "'SHRIRANG'"
            ]
          },
          "metadata": {
            "tags": []
          },
          "execution_count": 161
        }
      ]
    },
    {
      "cell_type": "code",
      "metadata": {
        "id": "XXD37bpNdI0_",
        "colab_type": "code",
        "outputId": "4fa4da6e-20ca-4738-f0fc-6b8e417e9ef0",
        "colab": {
          "base_uri": "https://localhost:8080/",
          "height": 34
        }
      },
      "source": [
        "str5.isupper()"
      ],
      "execution_count": 0,
      "outputs": [
        {
          "output_type": "execute_result",
          "data": {
            "text/plain": [
              "True"
            ]
          },
          "metadata": {
            "tags": []
          },
          "execution_count": 162
        }
      ]
    },
    {
      "cell_type": "code",
      "metadata": {
        "id": "d3rvt3BBdLDB",
        "colab_type": "code",
        "outputId": "8e990994-790c-45bb-d571-505c01925341",
        "colab": {
          "base_uri": "https://localhost:8080/",
          "height": 34
        }
      },
      "source": [
        "len(str5)"
      ],
      "execution_count": 0,
      "outputs": [
        {
          "output_type": "execute_result",
          "data": {
            "text/plain": [
              "8"
            ]
          },
          "metadata": {
            "tags": []
          },
          "execution_count": 163
        }
      ]
    },
    {
      "cell_type": "code",
      "metadata": {
        "id": "ChqJSmuudNsE",
        "colab_type": "code",
        "outputId": "f382198e-79a2-4d01-c7cf-f03894b49d4e",
        "colab": {
          "base_uri": "https://localhost:8080/",
          "height": 34
        }
      },
      "source": [
        "#returns biggest item\n",
        "max(str5)"
      ],
      "execution_count": 0,
      "outputs": [
        {
          "output_type": "execute_result",
          "data": {
            "text/plain": [
              "'S'"
            ]
          },
          "metadata": {
            "tags": []
          },
          "execution_count": 164
        }
      ]
    },
    {
      "cell_type": "code",
      "metadata": {
        "id": "4H5ZL_x5dQVB",
        "colab_type": "code",
        "outputId": "98d52580-57da-4573-c019-f840b48d62ba",
        "colab": {
          "base_uri": "https://localhost:8080/",
          "height": 34
        }
      },
      "source": [
        "#returns smallest item\n",
        "min(str5)"
      ],
      "execution_count": 0,
      "outputs": [
        {
          "output_type": "execute_result",
          "data": {
            "text/plain": [
              "'A'"
            ]
          },
          "metadata": {
            "tags": []
          },
          "execution_count": 165
        }
      ]
    },
    {
      "cell_type": "code",
      "metadata": {
        "id": "isftxccogH-B",
        "colab_type": "code",
        "outputId": "1c3af64b-1af3-49b8-9ba1-172a7e13c112",
        "colab": {
          "base_uri": "https://localhost:8080/",
          "height": 34
        }
      },
      "source": [
        "str1"
      ],
      "execution_count": 0,
      "outputs": [
        {
          "output_type": "execute_result",
          "data": {
            "text/plain": [
              "'Shrirang'"
            ]
          },
          "metadata": {
            "tags": []
          },
          "execution_count": 166
        }
      ]
    },
    {
      "cell_type": "code",
      "metadata": {
        "id": "hmYnddh-gP53",
        "colab_type": "code",
        "outputId": "55ce40c3-9eb8-4ae9-f1d7-ae13f8d6785d",
        "colab": {
          "base_uri": "https://localhost:8080/",
          "height": 34
        }
      },
      "source": [
        "#will swap uppercased char to lowercased and vice versa\n",
        "str1.swapcase()"
      ],
      "execution_count": 0,
      "outputs": [
        {
          "output_type": "execute_result",
          "data": {
            "text/plain": [
              "'sHRIRANG'"
            ]
          },
          "metadata": {
            "tags": []
          },
          "execution_count": 167
        }
      ]
    },
    {
      "cell_type": "code",
      "metadata": {
        "id": "x8KHXjW-gSZd",
        "colab_type": "code",
        "outputId": "e365ce77-dd44-406b-cc58-628d5d13b0b9",
        "colab": {
          "base_uri": "https://localhost:8080/",
          "height": 34
        }
      },
      "source": [
        "str1.lower()"
      ],
      "execution_count": 0,
      "outputs": [
        {
          "output_type": "execute_result",
          "data": {
            "text/plain": [
              "'shrirang'"
            ]
          },
          "metadata": {
            "tags": []
          },
          "execution_count": 168
        }
      ]
    },
    {
      "cell_type": "code",
      "metadata": {
        "id": "IdVkbSOQgWQQ",
        "colab_type": "code",
        "outputId": "1cb5648f-b9d0-45a4-f057-df8acddbe730",
        "colab": {
          "base_uri": "https://localhost:8080/",
          "height": 34
        }
      },
      "source": [
        "str1.isdigit()"
      ],
      "execution_count": 0,
      "outputs": [
        {
          "output_type": "execute_result",
          "data": {
            "text/plain": [
              "False"
            ]
          },
          "metadata": {
            "tags": []
          },
          "execution_count": 169
        }
      ]
    },
    {
      "cell_type": "code",
      "metadata": {
        "id": "popw2KdagZc9",
        "colab_type": "code",
        "outputId": "9b46b89d-f5cf-4a8e-b17b-7b43319b761e",
        "colab": {
          "base_uri": "https://localhost:8080/",
          "height": 34
        }
      },
      "source": [
        "#Alphanumeric\n",
        "str1.isalpha()"
      ],
      "execution_count": 0,
      "outputs": [
        {
          "output_type": "execute_result",
          "data": {
            "text/plain": [
              "True"
            ]
          },
          "metadata": {
            "tags": []
          },
          "execution_count": 170
        }
      ]
    },
    {
      "cell_type": "code",
      "metadata": {
        "id": "OqFNY-Regjn3",
        "colab_type": "code",
        "outputId": "140705f2-9266-4dc4-fd71-206c889ef054",
        "colab": {
          "base_uri": "https://localhost:8080/",
          "height": 34
        }
      },
      "source": [
        "str1.capitalize()"
      ],
      "execution_count": 0,
      "outputs": [
        {
          "output_type": "execute_result",
          "data": {
            "text/plain": [
              "'Shrirang'"
            ]
          },
          "metadata": {
            "tags": []
          },
          "execution_count": 171
        }
      ]
    },
    {
      "cell_type": "code",
      "metadata": {
        "id": "5wFr7KEuglyA",
        "colab_type": "code",
        "outputId": "f72e17eb-73c7-4ddd-bb5a-c63ece3832d9",
        "colab": {
          "base_uri": "https://localhost:8080/",
          "height": 34
        }
      },
      "source": [
        "#titlecased i.e. first char uppercase and others lower case\n",
        "str1.istitle()"
      ],
      "execution_count": 0,
      "outputs": [
        {
          "output_type": "execute_result",
          "data": {
            "text/plain": [
              "True"
            ]
          },
          "metadata": {
            "tags": []
          },
          "execution_count": 172
        }
      ]
    },
    {
      "cell_type": "code",
      "metadata": {
        "id": "u6BrdBWugoBg",
        "colab_type": "code",
        "outputId": "d34f1113-9d4f-4c52-8427-7672d2ca4bd9",
        "colab": {
          "base_uri": "https://localhost:8080/",
          "height": 34
        }
      },
      "source": [
        "str5.istitle()"
      ],
      "execution_count": 0,
      "outputs": [
        {
          "output_type": "execute_result",
          "data": {
            "text/plain": [
              "False"
            ]
          },
          "metadata": {
            "tags": []
          },
          "execution_count": 173
        }
      ]
    },
    {
      "cell_type": "code",
      "metadata": {
        "id": "85Pe9nq5gsZf",
        "colab_type": "code",
        "outputId": "9d613594-1080-45db-e2f4-8cc29cd0852b",
        "colab": {
          "base_uri": "https://localhost:8080/",
          "height": 34
        }
      },
      "source": [
        "str1.isdecimal()"
      ],
      "execution_count": 0,
      "outputs": [
        {
          "output_type": "execute_result",
          "data": {
            "text/plain": [
              "False"
            ]
          },
          "metadata": {
            "tags": []
          },
          "execution_count": 174
        }
      ]
    },
    {
      "cell_type": "code",
      "metadata": {
        "id": "ZuIvcSrxgy0n",
        "colab_type": "code",
        "colab": {}
      },
      "source": [
        ""
      ],
      "execution_count": 0,
      "outputs": []
    }
  ]
}