{
  "nbformat": 4,
  "nbformat_minor": 0,
  "metadata": {
    "colab": {
      "name": "Shrirang Diwakar (Golden Project).ipynb",
      "provenance": [],
      "authorship_tag": "ABX9TyPBxZDXDZ+7Gd8X/IIGWB7W",
      "include_colab_link": true
    },
    "kernelspec": {
      "name": "python3",
      "display_name": "Python 3"
    }
  },
  "cells": [
    {
      "cell_type": "markdown",
      "metadata": {
        "id": "view-in-github",
        "colab_type": "text"
      },
      "source": [
        "<a href=\"https://colab.research.google.com/github/shrirangdiwakar/LetsUpgrade-Python-Batch-4/blob/master/Shrirang_Diwakar_(Golden_Project).ipynb\" target=\"_parent\"><img src=\"https://colab.research.google.com/assets/colab-badge.svg\" alt=\"Open In Colab\"/></a>"
      ]
    },
    {
      "cell_type": "markdown",
      "metadata": {
        "id": "BirlgqpCU_Fm",
        "colab_type": "text"
      },
      "source": [
        "# **Golden Project**\n",
        "##### The Project is : In a Railway Block, the arrangement of seats is given , with a seat number as an input , we have to find out the **Facing Seat number and its type**\n",
        "#####Note: I did my project on jupiter notebook and copied here on google colab for submiting the link"
      ]
    },
    {
      "cell_type": "code",
      "metadata": {
        "id": "P5ow0d2AU22t",
        "colab_type": "code",
        "colab": {}
      },
      "source": [
        "#this Function will return a value for the formula calculated\n",
        "\n",
        "def value_of_n(num):\n",
        "    temp = 12\n",
        "    for i in range(0,10):\n",
        "        if num <= temp:\n",
        "            return i\n",
        "        else:\n",
        "            temp+=12\n",
        "    else:\n",
        "        return -1"
      ],
      "execution_count": 2,
      "outputs": []
    },
    {
      "cell_type": "code",
      "metadata": {
        "id": "wpwis6yWWAam",
        "colab_type": "code",
        "colab": {}
      },
      "source": [
        "#Logic for finding facing seat number\n",
        "\n",
        "def face_seat_no():\n",
        "    print(\"\\n\\t\\t\\033[1m****Welcome to Railway Seat Booking Counter\\033[0m****\")\n",
        "    test_case = int(input(\"\\n\\nEnter total number of test cases:\\t \"))\n",
        "    \n",
        "    #negative input\n",
        "    if test_case <=0:\n",
        "        return \"\\033[91m\\033[1mInvalid Check!!\\033[0m\"\n",
        "    seat_nums = []\n",
        "    \n",
        "    \n",
        "    #accepting seat numbers\n",
        "    for i in range(test_case):\n",
        "        seat_nums.append(int(input(\"\\n\\nEnter Seat Number (Test case: {}) to check facing-seat number:\\t\".format(i))))\n",
        "        \n",
        "    #logic: I have calculated a formula after observing the pattern of seat arrangement   \n",
        "    for i in range(len(seat_nums)):\n",
        "        n = value_of_n(seat_nums[i])\n",
        "        \n",
        "        if n==-1:\n",
        "            print(\"\\n\\033[1m\\033[91m***Wrong Input\",seat_nums[i],\"!! Seat numbers in a single block are not beyond 120!!\\033[0m\")\n",
        "            return\n",
        "        \n",
        "        value = 24*n + 13                             #formula\n",
        "        face_seat = value - seat_nums[i]\n",
        "        seat_type = type_of_seat(face_seat)\n",
        "        print(\"\\n\\n\\033[1m\\033[32mThe Seat Facing\",seat_nums[i],\"is:\\033[30m\",face_seat,\"\\033[32mand the type of Seat is:\\033[30m\",seat_type)\n",
        "\n",
        "#END OF LOGIC"
      ],
      "execution_count": 3,
      "outputs": []
    },
    {
      "cell_type": "code",
      "metadata": {
        "id": "4r0izbqlWGrI",
        "colab_type": "code",
        "colab": {}
      },
      "source": [
        "#this function will return type of seat using simple pattern of arrangement\n",
        "\n",
        "def type_of_seat(num):\n",
        "    if num%6 == 0 or num%6 == 1:\n",
        "        return \"Window-Seat(WS)\"\n",
        "    \n",
        "    \n",
        "    elif num%6 == 2 or num%6 == 5:\n",
        "        return \"Middle-Seat(MS)\"\n",
        "    \n",
        "    \n",
        "    else:\n",
        "        return \"Aisle-Seat(AS)\""
      ],
      "execution_count": 4,
      "outputs": []
    },
    {
      "cell_type": "code",
      "metadata": {
        "id": "aORzx9ypWLVe",
        "colab_type": "code",
        "colab": {
          "base_uri": "https://localhost:8080/",
          "height": 745
        },
        "outputId": "91caf0be-9823-4387-8c5d-be740b1819e0"
      },
      "source": [
        "face_seat_no()"
      ],
      "execution_count": 5,
      "outputs": [
        {
          "output_type": "stream",
          "text": [
            "\n",
            "\t\t\u001b[1m****Welcome to Railway Seat Booking Counter\u001b[0m****\n",
            "\n",
            "\n",
            "Enter total number of test cases:\t 6\n",
            "\n",
            "\n",
            "Enter Seat Number (Test case: 0) to check facing-seat number:\t3\n",
            "\n",
            "\n",
            "Enter Seat Number (Test case: 1) to check facing-seat number:\t25\n",
            "\n",
            "\n",
            "Enter Seat Number (Test case: 2) to check facing-seat number:\t56\n",
            "\n",
            "\n",
            "Enter Seat Number (Test case: 3) to check facing-seat number:\t84\n",
            "\n",
            "\n",
            "Enter Seat Number (Test case: 4) to check facing-seat number:\t105\n",
            "\n",
            "\n",
            "Enter Seat Number (Test case: 5) to check facing-seat number:\t123\n",
            "\n",
            "\n",
            "\u001b[1m\u001b[32mThe Seat Facing 3 is:\u001b[30m 10 \u001b[32mand the type of Seat is:\u001b[30m Aisle-Seat(AS)\n",
            "\n",
            "\n",
            "\u001b[1m\u001b[32mThe Seat Facing 25 is:\u001b[30m 36 \u001b[32mand the type of Seat is:\u001b[30m Window-Seat(WS)\n",
            "\n",
            "\n",
            "\u001b[1m\u001b[32mThe Seat Facing 56 is:\u001b[30m 53 \u001b[32mand the type of Seat is:\u001b[30m Middle-Seat(MS)\n",
            "\n",
            "\n",
            "\u001b[1m\u001b[32mThe Seat Facing 84 is:\u001b[30m 73 \u001b[32mand the type of Seat is:\u001b[30m Window-Seat(WS)\n",
            "\n",
            "\n",
            "\u001b[1m\u001b[32mThe Seat Facing 105 is:\u001b[30m 100 \u001b[32mand the type of Seat is:\u001b[30m Aisle-Seat(AS)\n",
            "\n",
            "\u001b[1m\u001b[91m***Wrong Input 123 !! Seat numbers in a single block are not beyond 120!!\u001b[0m\n"
          ],
          "name": "stdout"
        }
      ]
    },
    {
      "cell_type": "code",
      "metadata": {
        "id": "Z9UiqezDWMOp",
        "colab_type": "code",
        "colab": {}
      },
      "source": [
        ""
      ],
      "execution_count": null,
      "outputs": []
    }
  ]
}