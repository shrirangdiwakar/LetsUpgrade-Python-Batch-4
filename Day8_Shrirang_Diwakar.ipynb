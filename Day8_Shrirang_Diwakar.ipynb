{
  "nbformat": 4,
  "nbformat_minor": 0,
  "metadata": {
    "colab": {
      "name": "Day8 Shrirang Diwakar.ipynb",
      "provenance": [],
      "authorship_tag": "ABX9TyNLeWVENpbHjrM3PpQBiuqt",
      "include_colab_link": true
    },
    "kernelspec": {
      "name": "python3",
      "display_name": "Python 3"
    }
  },
  "cells": [
    {
      "cell_type": "markdown",
      "metadata": {
        "id": "view-in-github",
        "colab_type": "text"
      },
      "source": [
        "<a href=\"https://colab.research.google.com/github/shrirangdiwakar/LetsUpgrade-Python-Batch-4/blob/master/Day8_Shrirang_Diwakar.ipynb\" target=\"_parent\"><img src=\"https://colab.research.google.com/assets/colab-badge.svg\" alt=\"Open In Colab\"/></a>"
      ]
    },
    {
      "cell_type": "markdown",
      "metadata": {
        "id": "7kX4Mj4gqS2n",
        "colab_type": "text"
      },
      "source": [
        "#### **Assignment 1 : Decorator Function ( helpful for adding functionalities to functions afterwards as per changing requirements )**"
      ]
    },
    {
      "cell_type": "code",
      "metadata": {
        "id": "JfPpp1fZp923",
        "colab_type": "code",
        "colab": {}
      },
      "source": [
        "def take_input(temp):\n",
        "  def decorator():\n",
        "    lst = list(map(int,input(\"Enter the numbers you want to sort separated by a comma ',': \").split(\",\")))\n",
        "    temp(lst)\n",
        "  return decorator\n",
        "  "
      ],
      "execution_count": 0,
      "outputs": []
    },
    {
      "cell_type": "code",
      "metadata": {
        "id": "oSFFFkxdsFXB",
        "colab_type": "code",
        "colab": {}
      },
      "source": [
        "@take_input\n",
        "def selsort(lst):\n",
        "  for i in range(0, (len(lst))-1):  #setting range ( 0 to n-1)\n",
        "    min1 = i                        #considering first element as minimum\n",
        "    for j in range(i+1, len(lst)):  #setting range (i+1 to n)\n",
        "       if lst[min1] > lst[j] :\n",
        "        min1 = j\n",
        "    if min1!= i:                    #swapping numbers\n",
        "      temp = lst[min1]\n",
        "      lst[min1] = lst[i]\n",
        "      lst[i] = temp\n",
        "  print(\"\\n\\n\\033[32mThe Sorted Numbers are: \",lst)\n"
      ],
      "execution_count": 0,
      "outputs": []
    },
    {
      "cell_type": "code",
      "metadata": {
        "id": "jMuK5a0kuvo2",
        "colab_type": "code",
        "colab": {}
      },
      "source": [
        "def add1():\n",
        "  def yes1():\n",
        "    print(\"hello\")\n",
        "  return yes1"
      ],
      "execution_count": 0,
      "outputs": []
    },
    {
      "cell_type": "markdown",
      "metadata": {
        "id": "ycaD228m4bXt",
        "colab_type": "text"
      },
      "source": [
        "1. After calling selsort, as it belongs to @take_input, it returns control there\n",
        "2. Replaces selsort with temp, then executes the decorator function after defining it\n",
        "3.passes arguments to selsort, control returns to selsort\n",
        "4.and execution of selsort takes place\n",
        "\n",
        "### **So advantage we got was extended functionalities i.e adding/modifying function later on.**"
      ]
    },
    {
      "cell_type": "code",
      "metadata": {
        "id": "XMfaXveWw8nz",
        "colab_type": "code",
        "colab": {
          "base_uri": "https://localhost:8080/",
          "height": 85
        },
        "outputId": "ded90860-42e4-4570-e928-c34259c1c05b"
      },
      "source": [
        "selsort()"
      ],
      "execution_count": 39,
      "outputs": [
        {
          "output_type": "stream",
          "text": [
            "Enter the numbers you want to sort separated by a comma ',': 5,4,3,2,1\n",
            "\n",
            "\n",
            "\u001b[32mThe Sorted Numbers are:  [1, 2, 3, 4, 5]\n"
          ],
          "name": "stdout"
        }
      ]
    },
    {
      "cell_type": "code",
      "metadata": {
        "id": "JKDZY_Bb5wc2",
        "colab_type": "code",
        "colab": {
          "base_uri": "https://localhost:8080/",
          "height": 85
        },
        "outputId": "ffc9cead-f97c-4c31-bcbe-3a4bbf726e9a"
      },
      "source": [
        "selsort()"
      ],
      "execution_count": 40,
      "outputs": [
        {
          "output_type": "stream",
          "text": [
            "Enter the numbers you want to sort separated by a comma ',': 67,443,898,34,1\n",
            "\n",
            "\n",
            "\u001b[32mThe Sorted Numbers are:  [1, 34, 67, 443, 898]\n"
          ],
          "name": "stdout"
        }
      ]
    },
    {
      "cell_type": "code",
      "metadata": {
        "id": "MOG4g4pZ5yMV",
        "colab_type": "code",
        "colab": {
          "base_uri": "https://localhost:8080/",
          "height": 85
        },
        "outputId": "a66b7d7d-2e9c-411a-992e-64874143bdfc"
      },
      "source": [
        "selsort()"
      ],
      "execution_count": 41,
      "outputs": [
        {
          "output_type": "stream",
          "text": [
            "Enter the numbers you want to sort separated by a comma ',': -1,-4,-5,-2,-8\n",
            "\n",
            "\n",
            "\u001b[32mThe Sorted Numbers are:  [-8, -5, -4, -2, -1]\n"
          ],
          "name": "stdout"
        }
      ]
    },
    {
      "cell_type": "code",
      "metadata": {
        "id": "xI91cPot53c6",
        "colab_type": "code",
        "colab": {
          "base_uri": "https://localhost:8080/",
          "height": 85
        },
        "outputId": "a1949215-eac1-4100-c3f0-abc263f7820a"
      },
      "source": [
        "selsort()"
      ],
      "execution_count": 43,
      "outputs": [
        {
          "output_type": "stream",
          "text": [
            "Enter the numbers you want to sort separated by a comma ',': -5,90,2,-8,0\n",
            "\n",
            "\n",
            "\u001b[32mThe Sorted Numbers are:  [-8, -5, 0, 2, 90]\n"
          ],
          "name": "stdout"
        }
      ]
    }
  ]
}