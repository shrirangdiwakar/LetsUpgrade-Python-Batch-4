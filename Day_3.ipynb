{
  "nbformat": 4,
  "nbformat_minor": 0,
  "metadata": {
    "colab": {
      "name": "Day 3.ipynb",
      "provenance": [],
      "collapsed_sections": [],
      "authorship_tag": "ABX9TyM+D2Pt9Td5E+0d+etRRmC7",
      "include_colab_link": true
    },
    "kernelspec": {
      "name": "python3",
      "display_name": "Python 3"
    }
  },
  "cells": [
    {
      "cell_type": "markdown",
      "metadata": {
        "id": "view-in-github",
        "colab_type": "text"
      },
      "source": [
        "<a href=\"https://colab.research.google.com/github/shrirangdiwakar/LetsUpgrade-Python-Batch-4/blob/master/Day_3.ipynb\" target=\"_parent\"><img src=\"https://colab.research.google.com/assets/colab-badge.svg\" alt=\"Open In Colab\"/></a>"
      ]
    },
    {
      "cell_type": "markdown",
      "metadata": {
        "id": "M_6NhTrdq2s8",
        "colab_type": "text"
      },
      "source": [
        "#**Day 3: Loops and conditional statements**"
      ]
    },
    {
      "cell_type": "markdown",
      "metadata": {
        "id": "8L0aF5SPrRAc",
        "colab_type": "text"
      },
      "source": [
        "##### **Assignment 1 : Grading System**\n",
        " WAP to taking one number as input and then using if elif else concept, assign a grade to the input from A,B,C,D,E,Fail in a formatted report card."
      ]
    },
    {
      "cell_type": "code",
      "metadata": {
        "id": "fjnCpFDIvduz",
        "colab_type": "code",
        "colab": {
          "base_uri": "https://localhost:8080/",
          "height": 323
        },
        "outputId": "2149d0d5-0686-47d6-d7e1-9975c609e94a"
      },
      "source": [
        "#i will come up for optimised code for doing the assignment later because this code is the basic version for learning.\n",
        "print(\"\\t\\t**Welcome to the Grading system** \\n \\t\\tThe Grading is done is follows: \\n\\t\\t\\t1.80+ = A\\n\\t\\t\\t2.70-80 = B\\n\\t\\t\\t3.60-70 = C\\n\\t\\t\\t4.50-60 = D\\n\\t\\t\\t5.35-50 = E\\n\\t\\t\\t<35 = FAIL\")\n",
        "\n",
        "#input from user\n",
        "marks = int(input(\"Enter your marks for evaluation\\t\"))\n",
        "\n",
        "#condition checks\n",
        "if marks<35 :\n",
        "  grade = 'FAIL'\n",
        "elif marks>=80 :\n",
        "  grade = 'A'\n",
        "elif 70<=marks<80 :\n",
        "  grade = 'B'\n",
        "elif 60<=marks<70 :\n",
        "  grade = 'C'\n",
        "elif 50<=marks<60 :\n",
        "  grade = 'D'\n",
        "else :\n",
        "  grade = 'E'\n",
        "\n",
        "#printing grades in formatted output\n",
        "print(\"The Grade obtained is:\\n\")\n",
        "print(\"=================\\n|\\t\\t|\\n|\\t\\t|\\n|\\t\\033[1m\\033[91m\\033[4m%s\\033[0m\\t|\\n|\\t\\t|\\n|\\t\\t|\\n=================\" % grade)"
      ],
      "execution_count": 35,
      "outputs": [
        {
          "output_type": "stream",
          "text": [
            "\t\t**Welcome to the Grading system** \n",
            " \t\tThe Grading is done is follows: \n",
            "\t\t\t1.80+ = A\n",
            "\t\t\t2.70-80 = B\n",
            "\t\t\t3.60-70 = C\n",
            "\t\t\t4.50-60 = D\n",
            "\t\t\t5.35-50 = E\n",
            "\t\t\t<35 = FAIL\n",
            "Enter your marks for evaluation\t60\n",
            "The Grade obtained is:\n",
            "\n",
            "=================\n",
            "|\t\t|\n",
            "|\t\t|\n",
            "|\t\u001b[1m\u001b[91m\u001b[4mC\u001b[0m\t|\n",
            "|\t\t|\n",
            "|\t\t|\n",
            "=================\n"
          ],
          "name": "stdout"
        }
      ]
    },
    {
      "cell_type": "code",
      "metadata": {
        "id": "uxTk_vq50eKU",
        "colab_type": "code",
        "colab": {}
      },
      "source": [
        ""
      ],
      "execution_count": 0,
      "outputs": []
    },
    {
      "cell_type": "markdown",
      "metadata": {
        "id": "meqD15lO5h0Z",
        "colab_type": "text"
      },
      "source": [
        "#####**Assignment 2:  Guessing Team India score in 20-20 Cricket**\n",
        "WAP that gives a random score of Team India in a cricket match and user has to guess the score given by computer in between 1 to 250. The Rules are:\n",
        "\n",
        "*1.if the user guess is less than 1 or > than 250, print msg*\n",
        "\n",
        "*2.If the guessed score is +/- 10 difference than actual score. print msg and if greater than that print another msg*"
      ]
    },
    {
      "cell_type": "code",
      "metadata": {
        "id": "LAE_NBZa_Y3t",
        "colab_type": "code",
        "colab": {
          "base_uri": "https://localhost:8080/",
          "height": 391
        },
        "outputId": "27aceeb8-bddd-48f2-9602-6ada2e1f21c1"
      },
      "source": [
        "#importing random module to use randint for generating random numbers\n",
        "import random\n",
        "\n",
        "\n",
        "print(\"\\n\\t\\t\\033[1mWelcome to Score Predictor\\n\\t\\t\\033[1m\\033[94m**Predict score and win**\\033[94m\\n\")\n",
        "\n",
        "\n",
        "for attempts in range(0,3) :\n",
        "  guess = int(input(\"\\nGuess Team India's Score in 20-20 Cricket :\"))\n",
        "\n",
        "#condition 1 check\n",
        "  if guess<1 or guess>250 :\n",
        "    print(\"\\n\\033[91mReduce your expectations for 20-20 cricket\\n\\033[1m\\033[0mTRY AGAIN!!\\n\\n\")\n",
        "    attempts+=1\n",
        "    \n",
        "    #randint generates random number between given values\n",
        "    #condition check 2\n",
        "  else :\n",
        "    score =  random.randint(0,250)\n",
        "    diff = score - guess\n",
        "    if -10<diff<10 :\n",
        "      print(\"\\nThe Actual score was : %d & Predicted score was: %d \\n\\033[32m \\nCongratulations, You're a True Indian Fan\" %(score,guess))\n",
        "    else :\n",
        "      print(\"\\nThe Actual score was : %d & Predicted score was: %d \\n\\033[91m \\nUnfortunately, You're a not a True Indian Fan\" %(score,guess))\n",
        "\n",
        "\n"
      ],
      "execution_count": 31,
      "outputs": [
        {
          "output_type": "stream",
          "text": [
            "\n",
            "\t\t\u001b[1mWelcome to Score Predictor\n",
            "\t\t\u001b[1m\u001b[94m**Predict score and win**\u001b[94m\n",
            "\n",
            "\n",
            "Guess Team India's Score in 20-20 Cricket :130\n",
            "\n",
            "The Actual score was : 111 & Predicted score was: 130 \n",
            "\u001b[91m \n",
            "Unfortunately, You're a not a True Indian Fan\n",
            "\n",
            "Guess Team India's Score in 20-20 Cricket :78\n",
            "\n",
            "The Actual score was : 7 & Predicted score was: 78 \n",
            "\u001b[91m \n",
            "Unfortunately, You're a not a True Indian Fan\n",
            "\n",
            "Guess Team India's Score in 20-20 Cricket :56\n",
            "\n",
            "The Actual score was : 57 & Predicted score was: 56 \n",
            "\u001b[32m \n",
            "Congratulations, You're a True Indian Fan\n"
          ],
          "name": "stdout"
        }
      ]
    },
    {
      "cell_type": "markdown",
      "metadata": {
        "id": "Cpaka113VLa5",
        "colab_type": "text"
      },
      "source": [
        "##### **Assignment 3 : Facebook Picture Upload**\n",
        "##### Program for checking the dimensions of picture to be uploaded\n"
      ]
    },
    {
      "cell_type": "code",
      "metadata": {
        "id": "yRY0eZbPWwvS",
        "colab_type": "code",
        "colab": {
          "base_uri": "https://localhost:8080/",
          "height": 476
        },
        "outputId": "cba8109a-a3b5-4b4f-9dfe-475efc821da6"
      },
      "source": [
        "print(\"\\n**\\033[32mWelcome to Profile Picture Updater System**\\033[30m\")\n",
        "L = int(input(\"\\n\\tEnter the minimum dimension allowed i.e. L:\"))\n",
        "N = int(input(\"\\n\\tEnter the total Number of Photos i.e. N: \"))\n",
        "\n",
        "#loop for analysing multiple photos\n",
        "for x in range(1,N+1) :\n",
        "  W,  H = map(int,input(\"\\n\\nEnter Width and Height for Photo %d :\\nNote: Enter W, give 2 spaces and enter height :\" %x).split( ))\n",
        "  \n",
        "  #check W and H are proper or small\n",
        "  if W<L or H<L :\n",
        "    print(\"\\n\\n\\033[91m Upload Another photo\\033[30m\")\n",
        "  \n",
        "  #check for square photo\n",
        "  elif W==H :\n",
        "    print(\"\\n\\n\\033[32m Photo Accepted and Profile Picture Uploaded\\033[30m\")\n",
        "    break\n",
        "  \n",
        "  #Crop action for wrong dimensions\n",
        "  else :\n",
        "    print(\"\\n\\n\\033[94m Please Crop the Photo as W and H equal and greater than %d\" %L)\n",
        "  x+=1;\n"
      ],
      "execution_count": 61,
      "outputs": [
        {
          "output_type": "stream",
          "text": [
            "\n",
            "**\u001b[32mWelcome to Profile Picture Updater System**\u001b[30m\n",
            "\n",
            "\tEnter the minimum dimension allowed i.e. L:5\n",
            "\n",
            "\tEnter the total Number of Photos i.e. N: 3\n",
            "\n",
            "\n",
            "Enter Width and Height for Photo 1 :\n",
            "Note: Enter W, give 2 spaces and enter height :3 3\n",
            "\n",
            "\n",
            "\u001b[91m Upload Another photo\u001b[30m\n",
            "\n",
            "\n",
            "Enter Width and Height for Photo 2 :\n",
            "Note: Enter W, give 2 spaces and enter height :5 8\n",
            "\n",
            "\n",
            "\u001b[94m Please Crop the Photo as W and H equal and greater than 5\n",
            "\n",
            "\n",
            "Enter Width and Height for Photo 3 :\n",
            "Note: Enter W, give 2 spaces and enter height :5 5\n",
            "\n",
            "\n",
            "\u001b[32m Photo Accepted and Profile Picture Uploaded\u001b[30m\n"
          ],
          "name": "stdout"
        }
      ]
    },
    {
      "cell_type": "markdown",
      "metadata": {
        "id": "IClDHE8Ei4aJ",
        "colab_type": "text"
      },
      "source": [
        "##### **Assignment 4** :  Maze Puzzle\n"
      ]
    },
    {
      "cell_type": "code",
      "metadata": {
        "id": "ewNGMj_7cjbQ",
        "colab_type": "code",
        "colab": {
          "base_uri": "https://localhost:8080/",
          "height": 357
        },
        "outputId": "aec0ff95-5e78-47fe-857d-67e3ffbafcc6"
      },
      "source": [
        "#initial position\n",
        "init = [0,0]\n",
        "\n",
        "print(\"\\t\\t\\033[1m**Welcome to the Maze**\")\n",
        "print(\"\\nInitial Position of Ankit is:\",*init)\n",
        "print(\"Give code for movement as :\\n\\033[1m\\033[91mL : Left\\n\\033[92mR : Right\\n\\033[32mU : Up\\n\\033[94mD : Down\")\n",
        "move = list(input(\"\\n\\n\\tEnter entire CODE of directions :\\t\"))\n",
        "\n",
        "for x in move:\n",
        "  if x=='L' :\n",
        "    init[0]-=1;\n",
        "  elif x=='R' :\n",
        "    init[0]+=1;\n",
        "  elif x=='U' :\n",
        "    init[1]+=1;\n",
        "  else :\n",
        "    init[1]-=1;\n",
        "  print(\"\\033[1mFor %s , Co-ordinates of Ankit changed to :\" %x, *init)\n",
        "\n"
      ],
      "execution_count": 111,
      "outputs": [
        {
          "output_type": "stream",
          "text": [
            "\t\t\u001b[1m**Welcome to the Maze**\n",
            "\n",
            "Initial Position of Ankit is: 0 0\n",
            "Give code for movement as :\n",
            "\u001b[1m\u001b[91mL : Left\n",
            "\u001b[92mR : Right\n",
            "\u001b[32mU : Up\n",
            "\u001b[94mD : Down\n",
            "\n",
            "\n",
            "\tEnter entire CODE of directions :\tLRRULUUDR\n",
            "\u001b[1mFor L , Co-ordinates of Ankit changed to : -1 0\n",
            "\u001b[1mFor R , Co-ordinates of Ankit changed to : 0 0\n",
            "\u001b[1mFor R , Co-ordinates of Ankit changed to : 1 0\n",
            "\u001b[1mFor U , Co-ordinates of Ankit changed to : 1 1\n",
            "\u001b[1mFor L , Co-ordinates of Ankit changed to : 0 1\n",
            "\u001b[1mFor U , Co-ordinates of Ankit changed to : 0 2\n",
            "\u001b[1mFor U , Co-ordinates of Ankit changed to : 0 3\n",
            "\u001b[1mFor D , Co-ordinates of Ankit changed to : 0 2\n",
            "\u001b[1mFor R , Co-ordinates of Ankit changed to : 1 2\n"
          ],
          "name": "stdout"
        }
      ]
    },
    {
      "cell_type": "markdown",
      "metadata": {
        "id": "4C30m2Kg5hIs",
        "colab_type": "text"
      },
      "source": [
        "##### **Assignment 5 : Star** "
      ]
    },
    {
      "cell_type": "code",
      "metadata": {
        "id": "uVZpmN5g5zch",
        "colab_type": "code",
        "colab": {
          "base_uri": "https://localhost:8080/",
          "height": 119
        },
        "outputId": "1bcb3f92-7979-486c-8a1b-97693dde3d9e"
      },
      "source": [
        "i = 1\n",
        "for x in range(5) :\n",
        "  print(\"\\t\")\n",
        "  for y in range(i) :\n",
        "    print(\"\\033[94m*\",end = '')\n",
        "  i+=2;    \n",
        "  "
      ],
      "execution_count": 235,
      "outputs": [
        {
          "output_type": "stream",
          "text": [
            "\t\n",
            "\u001b[94m*\t\n",
            "\u001b[94m*\u001b[94m*\u001b[94m*\t\n",
            "\u001b[94m*\u001b[94m*\u001b[94m*\u001b[94m*\u001b[94m*\t\n",
            "\u001b[94m*\u001b[94m*\u001b[94m*\u001b[94m*\u001b[94m*\u001b[94m*\u001b[94m*\t\n",
            "\u001b[94m*\u001b[94m*\u001b[94m*\u001b[94m*\u001b[94m*\u001b[94m*\u001b[94m*\u001b[94m*\u001b[94m*"
          ],
          "name": "stdout"
        }
      ]
    },
    {
      "cell_type": "code",
      "metadata": {
        "id": "14E63wPBH26w",
        "colab_type": "code",
        "colab": {
          "base_uri": "https://localhost:8080/",
          "height": 85
        },
        "outputId": "b92f4071-b5bd-4a88-f418-f27ad77a7b87"
      },
      "source": [
        "lst = ['*','***','*****','*******']\n",
        "for x in lst :\n",
        "  print(x)"
      ],
      "execution_count": 237,
      "outputs": [
        {
          "output_type": "stream",
          "text": [
            "*\n",
            "***\n",
            "*****\n",
            "*******\n"
          ],
          "name": "stdout"
        }
      ]
    }
  ]
}