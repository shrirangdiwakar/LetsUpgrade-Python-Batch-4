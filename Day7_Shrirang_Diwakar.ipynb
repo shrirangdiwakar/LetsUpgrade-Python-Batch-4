{
  "nbformat": 4,
  "nbformat_minor": 0,
  "metadata": {
    "colab": {
      "name": "Day7 Shrirang Diwakar.ipynb",
      "provenance": [],
      "authorship_tag": "ABX9TyPHQrDf2LM7VbSyqGJKRgOB",
      "include_colab_link": true
    },
    "kernelspec": {
      "name": "python3",
      "display_name": "Python 3"
    }
  },
  "cells": [
    {
      "cell_type": "markdown",
      "metadata": {
        "id": "view-in-github",
        "colab_type": "text"
      },
      "source": [
        "<a href=\"https://colab.research.google.com/github/shrirangdiwakar/LetsUpgrade-Python-Batch-4/blob/master/Day7_Shrirang_Diwakar.ipynb\" target=\"_parent\"><img src=\"https://colab.research.google.com/assets/colab-badge.svg\" alt=\"Open In Colab\"/></a>"
      ]
    },
    {
      "cell_type": "markdown",
      "metadata": {
        "id": "rhA7oHB8BFJF",
        "colab_type": "text"
      },
      "source": [
        "#### **Assignment 1: Error & Exception Handling**"
      ]
    },
    {
      "cell_type": "code",
      "metadata": {
        "id": "tKIbr83fFGh8",
        "colab_type": "code",
        "colab": {}
      },
      "source": [
        "file = open(\"errorhandling.txt\",\"w\")\n",
        "file.close()"
      ],
      "execution_count": 0,
      "outputs": []
    },
    {
      "cell_type": "code",
      "metadata": {
        "id": "wg-c0yZ-A9vX",
        "colab_type": "code",
        "colab": {
          "base_uri": "https://localhost:8080/",
          "height": 102
        },
        "outputId": "c4c30f4e-b352-4dea-be30-52337071dada"
      },
      "source": [
        "file = open(\"errorhandling.txt\",\"r\")\n",
        "try :\n",
        "  file.write(\"Helllo, We are studying error and exception handling\")\n",
        "except Exception as e:\n",
        "  print(\"\\n\\033[91m\\033[1mError occurred :\",e)\n",
        "finally:\n",
        "  file.close()\n",
        "  print(\"\\n\\n\\033[32mError Handled successfully\")"
      ],
      "execution_count": 8,
      "outputs": [
        {
          "output_type": "stream",
          "text": [
            "\n",
            "\u001b[91m\u001b[1mError occurred : not writable\n",
            "\n",
            "\n",
            "\u001b[32mError Handled successfully\n"
          ],
          "name": "stdout"
        }
      ]
    },
    {
      "cell_type": "markdown",
      "metadata": {
        "id": "yLeRNOsMFi90",
        "colab_type": "text"
      },
      "source": [
        "#### **Assignment 2: Unit Testing**\n",
        "####Unit testing means testing for small pieces of big code to check if it is working properly as per the design"
      ]
    },
    {
      "cell_type": "code",
      "metadata": {
        "id": "LhAEiG3_Dyxw",
        "colab_type": "code",
        "colab": {
          "base_uri": "https://localhost:8080/",
          "height": 34
        },
        "outputId": "a104806a-7314-4b54-d8c9-5ddd3d8db3b2"
      },
      "source": [
        "%%writefile primecheck.py\n",
        "'''\n",
        "Module using magic function for unittetsing\n",
        "'''\n",
        "def isprime(num):\n",
        "    '''\n",
        "    This is function to check whether num is a prime no. or not\n",
        "    '''\n",
        "    flag = 1\n",
        "    if num > 1:\n",
        "        for i in range(2, num):\n",
        "            if (num % i) == 0:          #condition for prime numbers\n",
        "                print(\"\\n\\n\\033[1m {} is Not a Prime Number\".format(num))\n",
        "                flag = 0\n",
        "                break\n",
        "        else:\n",
        "            print(\"\\n\\n\\033[94m {} is a Prime Number\\033[0m\".format(num))\n",
        "            return 1\n",
        "    elif num == 1:\n",
        "        print(\"\\n\\n\\033[1m {} is Not a Prime Number\\033[0m\".format(num))\n",
        "        return 2\n",
        "    else:\n",
        "        print(\"\\n\\n\\033[91m Prime Numbers are greater than 1\\033[0m\")\n",
        "        return 3\n",
        "    if flag == 0:\n",
        "        return 0\n",
        "  \n"
      ],
      "execution_count": 276,
      "outputs": [
        {
          "output_type": "stream",
          "text": [
            "Overwriting primecheck.py\n"
          ],
          "name": "stdout"
        }
      ]
    },
    {
      "cell_type": "code",
      "metadata": {
        "id": "z_MCfI3IMXZG",
        "colab_type": "code",
        "colab": {
          "base_uri": "https://localhost:8080/",
          "height": 85
        },
        "outputId": "cf788f7a-6e51-4d98-a42b-c76102979933"
      },
      "source": [
        "! pylint primecheck.py    #Our code follows coding standards"
      ],
      "execution_count": 277,
      "outputs": [
        {
          "output_type": "stream",
          "text": [
            "\n",
            "-------------------------------------------------------------------\n",
            "Your code has been rated at 10.00/10 (previous run: 9.41/10, +0.59)\n",
            "\n"
          ],
          "name": "stdout"
        }
      ]
    },
    {
      "cell_type": "code",
      "metadata": {
        "id": "-jumuiehTp6a",
        "colab_type": "code",
        "colab": {
          "base_uri": "https://localhost:8080/",
          "height": 34
        },
        "outputId": "c89053bf-b17f-44ae-f002-2c01010a9c57"
      },
      "source": [
        "%%writefile testprime.py\n",
        "\n",
        "import unittest\n",
        "import primecheck\n",
        "\n",
        "class isprimetest(unittest.TestCase):\n",
        "    def test_lessthanone(self):\n",
        "        result = primecheck.isprime(0)\n",
        "        self.assertEqual(result,3)\n",
        "\n",
        "    def test_equaltoone(self):\n",
        "        result = primecheck.isprime(1)\n",
        "        self.assertEqual(result,2)\n",
        "\n",
        "    def test_isprimenumber(self):\n",
        "        result = primecheck.isprime(17)\n",
        "        self.assertEqual(result,1)\n",
        "\n",
        "    def test_notaprimenumber(self):\n",
        "        result = primecheck.isprime(8)\n",
        "        self.assertEqual(result,0)\n",
        "\n",
        "if __name__ == '__main__' :\n",
        "    unittest.main()\n",
        "\n"
      ],
      "execution_count": 280,
      "outputs": [
        {
          "output_type": "stream",
          "text": [
            "Overwriting testprime.py\n"
          ],
          "name": "stdout"
        }
      ]
    },
    {
      "cell_type": "code",
      "metadata": {
        "id": "8AqOdlVXX-FB",
        "colab_type": "code",
        "colab": {
          "base_uri": "https://localhost:8080/",
          "height": 306
        },
        "outputId": "ba44c4af-7a4b-44ca-f572-6ec6778f36eb"
      },
      "source": [
        "! python testprime.py"
      ],
      "execution_count": 281,
      "outputs": [
        {
          "output_type": "stream",
          "text": [
            "\n",
            "\n",
            "\u001b[1m 1 is Not a Prime Number\u001b[0m\n",
            ".\n",
            "\n",
            "\u001b[94m 17 is a Prime Number\u001b[0m\n",
            ".\n",
            "\n",
            "\u001b[91m Prime Numbers are greater than 1\u001b[0m\n",
            ".\n",
            "\n",
            "\u001b[1m 8 is Not a Prime Number\n",
            ".\n",
            "----------------------------------------------------------------------\n",
            "Ran 4 tests in 0.000s\n",
            "\n",
            "OK\n"
          ],
          "name": "stdout"
        }
      ]
    }
  ]
}