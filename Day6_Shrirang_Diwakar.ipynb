{
  "nbformat": 4,
  "nbformat_minor": 0,
  "metadata": {
    "colab": {
      "name": "Day6 Shrirang Diwakar",
      "provenance": [],
      "authorship_tag": "ABX9TyOhbKYrw07PB8d48UxrBHcC",
      "include_colab_link": true
    },
    "kernelspec": {
      "name": "python3",
      "display_name": "Python 3"
    }
  },
  "cells": [
    {
      "cell_type": "markdown",
      "metadata": {
        "id": "view-in-github",
        "colab_type": "text"
      },
      "source": [
        "<a href=\"https://colab.research.google.com/github/shrirangdiwakar/LetsUpgrade-Python-Batch-4/blob/master/Day6_Shrirang_Diwakar.ipynb\" target=\"_parent\"><img src=\"https://colab.research.google.com/assets/colab-badge.svg\" alt=\"Open In Colab\"/></a>"
      ]
    },
    {
      "cell_type": "markdown",
      "metadata": {
        "id": "x7qnMA41Kw5X",
        "colab_type": "text"
      },
      "source": [
        "##### **Assignment 1 : Bank Account Manager**"
      ]
    },
    {
      "cell_type": "code",
      "metadata": {
        "id": "uCxzV0FvKhPc",
        "colab_type": "code",
        "colab": {
          "base_uri": "https://localhost:8080/",
          "height": 34
        },
        "outputId": "16601d1e-5bb0-44ff-8174-1e1039f87cea"
      },
      "source": [
        "print(\"\\033[1m*****Welcome to Bank Account Manager*****\\033[0m\")\n",
        "class bankacc():\n",
        "\n",
        "  def __init__(self,owner,balance):\n",
        "    self.owner = owner               \n",
        "    self.balance = balance\n",
        "\n",
        "  def deposit(self,amount):\n",
        "    self.balance = self.balance + amount\n",
        "    print(\"\\n\\n\\033[1m\\033[32m The Amount has been deposited in\",self.owner,\"'s bank account\")\n",
        "    print(\"\\n\\033[30m The Total Balance Now is :\",self.balance)\n",
        "\n",
        "  def withdraw(self,amount):\n",
        "    if self.balance>=amount:\n",
        "      self.balance = self.balance - amount\n",
        "      print(\"\\n\\n\\033[1m\\033[32m The Amount is Withdrawed successfully from\",self.owner,\"'s bank account\")\n",
        "      print(\"\\n\\033[30m The Remaining Balance is :\",self.balance)\n",
        "    else :\n",
        "      print(\"\\n\\n\\033[91m Sorry, You don't have Sufficient balance\\033[0m\")\n",
        "\n",
        "\n",
        "\n"
      ],
      "execution_count": 30,
      "outputs": [
        {
          "output_type": "stream",
          "text": [
            "\u001b[1m*****Welcome to Bank Account Manager*****\u001b[0m\n"
          ],
          "name": "stdout"
        }
      ]
    },
    {
      "cell_type": "code",
      "metadata": {
        "id": "OzAnicxJNktJ",
        "colab_type": "code",
        "colab": {}
      },
      "source": [
        "person1 = bankacc(\"Shrirang\",983773)"
      ],
      "execution_count": 0,
      "outputs": []
    },
    {
      "cell_type": "code",
      "metadata": {
        "id": "1X8ukq7DOYrq",
        "colab_type": "code",
        "colab": {
          "base_uri": "https://localhost:8080/",
          "height": 102
        },
        "outputId": "f244e5d7-3fbb-4acc-cf56-974d9da5a870"
      },
      "source": [
        "person1.deposit(30000)"
      ],
      "execution_count": 32,
      "outputs": [
        {
          "output_type": "stream",
          "text": [
            "\n",
            "\n",
            "\u001b[1m\u001b[32m The Amount has been deposited in Shrirang 's bank account\n",
            "\n",
            "\u001b[30m The Total Balance Now is : 1013773\n"
          ],
          "name": "stdout"
        }
      ]
    },
    {
      "cell_type": "code",
      "metadata": {
        "id": "RGlN8lpyOvV1",
        "colab_type": "code",
        "colab": {
          "base_uri": "https://localhost:8080/",
          "height": 102
        },
        "outputId": "838f20ba-6472-4f33-f754-d594c11df442"
      },
      "source": [
        "person1.withdraw(982773)"
      ],
      "execution_count": 33,
      "outputs": [
        {
          "output_type": "stream",
          "text": [
            "\n",
            "\n",
            "\u001b[1m\u001b[32m The Amount is Withdrawed successfully from Shrirang 's bank account\n",
            "\n",
            "\u001b[30m The Remaining Balance is : 31000\n"
          ],
          "name": "stdout"
        }
      ]
    },
    {
      "cell_type": "code",
      "metadata": {
        "id": "sVoRo5g_O0-3",
        "colab_type": "code",
        "colab": {
          "base_uri": "https://localhost:8080/",
          "height": 68
        },
        "outputId": "75e01397-21b3-4e4c-fea4-6bc50e31680a"
      },
      "source": [
        "person1.withdraw(32000)"
      ],
      "execution_count": 34,
      "outputs": [
        {
          "output_type": "stream",
          "text": [
            "\n",
            "\n",
            "\u001b[91m Sorry, You don't have Sufficient balance\u001b[0m\n"
          ],
          "name": "stdout"
        }
      ]
    },
    {
      "cell_type": "code",
      "metadata": {
        "id": "Pe7W256BPLKJ",
        "colab_type": "code",
        "colab": {}
      },
      "source": [
        "person2 = bankacc(\"Shri\",99987)"
      ],
      "execution_count": 0,
      "outputs": []
    },
    {
      "cell_type": "code",
      "metadata": {
        "id": "OmPkPi1HPVVF",
        "colab_type": "code",
        "colab": {
          "base_uri": "https://localhost:8080/",
          "height": 102
        },
        "outputId": "21e47eb5-1a5f-4c81-9b07-b362e59ced31"
      },
      "source": [
        "person2.withdraw(99987)"
      ],
      "execution_count": 36,
      "outputs": [
        {
          "output_type": "stream",
          "text": [
            "\n",
            "\n",
            "\u001b[1m\u001b[32m The Amount is Withdrawed successfully from Shri 's bank account\n",
            "\n",
            "\u001b[30m The Remaining Balance is : 0\n"
          ],
          "name": "stdout"
        }
      ]
    },
    {
      "cell_type": "code",
      "metadata": {
        "id": "fHfqv_8pPgYY",
        "colab_type": "code",
        "colab": {
          "base_uri": "https://localhost:8080/",
          "height": 102
        },
        "outputId": "29052f65-7e95-408d-bdea-955480771bcd"
      },
      "source": [
        "person2.deposit(7288282)"
      ],
      "execution_count": 37,
      "outputs": [
        {
          "output_type": "stream",
          "text": [
            "\n",
            "\n",
            "\u001b[1m\u001b[32m The Amount has been deposited in Shri 's bank account\n",
            "\n",
            "\u001b[30m The Total Balance Now is : 7288282\n"
          ],
          "name": "stdout"
        }
      ]
    },
    {
      "cell_type": "code",
      "metadata": {
        "id": "sRuUkvSVPpBU",
        "colab_type": "code",
        "colab": {
          "base_uri": "https://localhost:8080/",
          "height": 102
        },
        "outputId": "08b04112-6866-4588-95a4-d5d8ed0ec2c7"
      },
      "source": [
        "person2.withdraw(3)"
      ],
      "execution_count": 38,
      "outputs": [
        {
          "output_type": "stream",
          "text": [
            "\n",
            "\n",
            "\u001b[1m\u001b[32m The Amount is Withdrawed successfully from Shri 's bank account\n",
            "\n",
            "\u001b[30m The Remaining Balance is : 7288279\n"
          ],
          "name": "stdout"
        }
      ]
    },
    {
      "cell_type": "markdown",
      "metadata": {
        "id": "attr8jrKPyWH",
        "colab_type": "text"
      },
      "source": [
        "##### **Assignment 2 : Cone Class with calculating its properties**"
      ]
    },
    {
      "cell_type": "code",
      "metadata": {
        "id": "gPasA4TAPxNr",
        "colab_type": "code",
        "colab": {}
      },
      "source": [
        "import math"
      ],
      "execution_count": 0,
      "outputs": []
    },
    {
      "cell_type": "code",
      "metadata": {
        "id": "Pk3FhtBCQAyz",
        "colab_type": "code",
        "colab": {}
      },
      "source": [
        "class cone():\n",
        "  pi = 3.142\n",
        "  def __init__(self,radius,height):\n",
        "    print(\"\\n\\033[1m*****Welcome to Cone Area-Volume Calculator*****\\033[0m\")\n",
        "    self.radius = radius\n",
        "    self.height = height\n",
        "\n",
        "  def cal_volume(self):\n",
        "    print(\"\\033[32mThe Volume of the Cone is :\",cone.pi*self.radius*self.radius*(self.height/3))\n",
        "\n",
        "  def cal_surface(self):\n",
        "    choice = int(input(\"\\n\\nWhich Surface Area you want? \\n1.Base Surface Area \\n2.Side Surface Area\\n\\nEnter Your Choice\"))\n",
        "    if choice == 1:\n",
        "      print(\"\\n\\n\\033[32mThe Base Surface Area of Cone is :\",cone.pi*self.radius*self.radius)\n",
        "\n",
        "    elif choice == 2:\n",
        "      print(\"\\n\\n\\033[32mThe Side Surface Area of Cone is :\",cone.pi*self.radius*math.sqrt((self.radius*self.radius)+(self.height*self.height)))\n",
        "    \n",
        "    else :\n",
        "      print(\"\\n\\n\\033[91m Wrong Choice\\033[0m\")\n"
      ],
      "execution_count": 0,
      "outputs": []
    },
    {
      "cell_type": "code",
      "metadata": {
        "id": "wZe8M5zvQgXz",
        "colab_type": "code",
        "colab": {
          "base_uri": "https://localhost:8080/",
          "height": 51
        },
        "outputId": "f4d6b58f-6f85-4b63-e0f7-65410f736986"
      },
      "source": [
        "cone1 = cone(30,20)"
      ],
      "execution_count": 60,
      "outputs": [
        {
          "output_type": "stream",
          "text": [
            "\n",
            "\u001b[1m*****Welcome to Cone Area-Volume Calculator*****\u001b[0m\n"
          ],
          "name": "stdout"
        }
      ]
    },
    {
      "cell_type": "code",
      "metadata": {
        "id": "cyKWTaO_TF3Y",
        "colab_type": "code",
        "colab": {
          "base_uri": "https://localhost:8080/",
          "height": 34
        },
        "outputId": "e087ae22-757e-487c-ce1f-d02053ac9300"
      },
      "source": [
        "cone1.cal_volume()"
      ],
      "execution_count": 61,
      "outputs": [
        {
          "output_type": "stream",
          "text": [
            "\u001b[32mThe Volume of the Cone is : 18852.0\n"
          ],
          "name": "stdout"
        }
      ]
    },
    {
      "cell_type": "code",
      "metadata": {
        "id": "AZIWwXd3TIRH",
        "colab_type": "code",
        "colab": {
          "base_uri": "https://localhost:8080/",
          "height": 187
        },
        "outputId": "c0114115-a13b-4b6b-c4b6-4436276f52bc"
      },
      "source": [
        "cone1.cal_surface()"
      ],
      "execution_count": 62,
      "outputs": [
        {
          "output_type": "stream",
          "text": [
            "\n",
            "\n",
            "Which Surface Area you want? \n",
            "1.Base Surface Area \n",
            "2.Side Surface Area\n",
            "\n",
            "Enter Your Choice1\n",
            "\n",
            "\n",
            "\u001b[32mThe Base Surface Area of Cone is : 2827.7999999999997\n"
          ],
          "name": "stdout"
        }
      ]
    },
    {
      "cell_type": "code",
      "metadata": {
        "id": "IW1JxnZhTLmk",
        "colab_type": "code",
        "colab": {
          "base_uri": "https://localhost:8080/",
          "height": 187
        },
        "outputId": "04aa1dd4-4e1e-4c59-d4ed-56939ebf62e4"
      },
      "source": [
        "cone1.cal_surface()"
      ],
      "execution_count": 63,
      "outputs": [
        {
          "output_type": "stream",
          "text": [
            "\n",
            "\n",
            "Which Surface Area you want? \n",
            "1.Base Surface Area \n",
            "2.Side Surface Area\n",
            "\n",
            "Enter Your Choice2\n",
            "\n",
            "\n",
            "\u001b[32mThe Side Surface Area of Cone is : 3398.592632252356\n"
          ],
          "name": "stdout"
        }
      ]
    },
    {
      "cell_type": "code",
      "metadata": {
        "id": "UAwLosedUOmr",
        "colab_type": "code",
        "colab": {
          "base_uri": "https://localhost:8080/",
          "height": 187
        },
        "outputId": "e3b153c8-ce38-4036-a363-b24ab6b0a628"
      },
      "source": [
        "cone1.cal_surface()\n"
      ],
      "execution_count": 65,
      "outputs": [
        {
          "output_type": "stream",
          "text": [
            "\n",
            "\n",
            "Which Surface Area you want? \n",
            "1.Base Surface Area \n",
            "2.Side Surface Area\n",
            "\n",
            "Enter Your Choice4\n",
            "\n",
            "\n",
            "\u001b[91m Wrong Choice\u001b[0m\n"
          ],
          "name": "stdout"
        }
      ]
    },
    {
      "cell_type": "code",
      "metadata": {
        "id": "5gfD-OfiUVoW",
        "colab_type": "code",
        "colab": {}
      },
      "source": [
        ""
      ],
      "execution_count": 0,
      "outputs": []
    }
  ]
}